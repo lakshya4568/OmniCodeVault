{
 "cells": [
  {
   "cell_type": "code",
   "execution_count": null,
   "metadata": {},
   "outputs": [],
   "source": [
    "def sum_of_natural_numbers(n):\n",
    "    sum_of_n = n * (n + 1) // 2\n",
    "    return sum_of_n\n",
    "\n",
    "n = int(input(\"Enter the value of 'n': \"))\n",
    "sum_of_n = sum_of_natural_numbers(n)\n",
    "print(f\"The sum of the first {n} natural numbers is: {sum_of_n}\")\n"
   ]
  },
  {
   "cell_type": "code",
   "execution_count": null,
   "metadata": {},
   "outputs": [],
   "source": [
    "def sum_of_natural_numbers(n):\n",
    "    total = 0\n",
    "    for i in range(1, n + 1):\n",
    "        total += i\n",
    "    return total\n",
    "\n",
    "n = int(input(\"Enter the value of 'n': \"))\n",
    "sum_of_n = sum_of_natural_numbers(n)\n",
    "print(f\"The sum of the first {n} natural numbers is: {sum_of_n}\")"
   ]
  },
  {
   "cell_type": "code",
   "execution_count": null,
   "metadata": {},
   "outputs": [],
   "source": [
    "for i in range (9, 101) :\n",
    "    if i % 2 == 0 :\n",
    "        print(i)"
   ]
  },
  {
   "cell_type": "code",
   "execution_count": null,
   "metadata": {},
   "outputs": [],
   "source": [
    "num = int(input(\"Enter the following number : \"))\n",
    "\n",
    "if num % 2 == 0 :\n",
    "    print(\"The number is even\")\n",
    "else :\n",
    "    print(\"odd\")"
   ]
  },
  {
   "cell_type": "code",
   "execution_count": null,
   "metadata": {},
   "outputs": [],
   "source": [
    "a = 2\n",
    "while True :\n",
    "    print(a)\n",
    "    a += 2\n",
    "    if a > 100 :\n",
    "        break\n",
    "print (a)"
   ]
  },
  {
   "cell_type": "code",
   "execution_count": null,
   "metadata": {},
   "outputs": [],
   "source": [
    "num = int(input(\"Enter the number : \"))\n",
    "\n",
    "for i in range (1, 11) :\n",
    "    product = num * i\n",
    "    print(num, 'X', i, '=', product)"
   ]
  },
  {
   "cell_type": "code",
   "execution_count": null,
   "metadata": {},
   "outputs": [],
   "source": [
    "num = int(input(\"Enter a number : \"))\n",
    "div = 2\n",
    "isPrime = True\n",
    "\n",
    "while (div < num) :\n",
    "    if (num % 2 == 0) :\n",
    "        isPrime = False\n",
    "        break\n",
    "    else :\n",
    "        div = div + 1\n",
    "\n",
    "if isPrime :\n",
    "    print(\"THIS IS A PRIME\")\n",
    "else :\n",
    "    print(\"NON PRIME \")"
   ]
  },
  {
   "cell_type": "code",
   "execution_count": null,
   "metadata": {},
   "outputs": [
    {
     "ename": "",
     "evalue": "",
     "output_type": "error",
     "traceback": [
      "\u001b[1;31mRunning cells with '/opt/homebrew/bin/python3.12' requires the ipykernel package.\n",
      "\u001b[1;31mRun the following command to install 'ipykernel' into the Python environment. \n",
      "\u001b[1;31mCommand: '/opt/homebrew/bin/python3.12 -m pip install ipykernel -U --user --force-reinstall'"
     ]
    }
   ],
   "source": [
    "num = int(input(\"Enter a number\"))\n",
    "\n",
    "while (num > 0) :\n",
    "    last_digit = num % 10 \n",
    "    print(last_digit, end = ' ')\n",
    "    num //= 10\n",
    "\n",
    "print()\n"
   ]
  },
  {
   "cell_type": "code",
   "execution_count": null,
   "metadata": {},
   "outputs": [],
   "source": [
    "import socket\n",
    "\n",
    "# socket info through getaddrinfo\n"
   ]
  }
 ],
 "metadata": {
  "kernelspec": {
   "display_name": "Python 3 (ipykernel)",
   "language": "python",
   "name": "python3"
  },
  "language_info": {
   "codemirror_mode": {
    "name": "ipython",
    "version": 3
   },
   "file_extension": ".py",
   "mimetype": "text/x-python",
   "name": "python",
   "nbconvert_exporter": "python",
   "pygments_lexer": "ipython3",
<<<<<<< HEAD
   "version": "3.10.9"
=======
   "version": "3.11.5"
>>>>>>> 297b7919560b49b278a8748b1a9ae933d6c87f76
  }
 },
 "nbformat": 4,
 "nbformat_minor": 4
}
