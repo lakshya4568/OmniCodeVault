{
 "cells": [
  {
   "cell_type": "code",
   "execution_count": 1,
   "id": "d34c6877-a6ff-4f3b-84eb-b6800972c8e5",
   "metadata": {},
   "outputs": [
    {
     "name": "stdout",
     "output_type": "stream",
     "text": [
      "['False', 'None', 'True', 'and', 'as', 'assert', 'async', 'await', 'break', 'class', 'continue', 'def', 'del', 'elif', 'else', 'except', 'finally', 'for', 'from', 'global', 'if', 'import', 'in', 'is', 'lambda', 'nonlocal', 'not', 'or', 'pass', 'raise', 'return', 'try', 'while', 'with', 'yield']\n"
     ]
    }
   ],
   "source": [
    "import keyword\n",
    "\n",
    "print(keyword.kwlist)"
   ]
  },
  {
   "cell_type": "code",
   "execution_count": 2,
   "id": "ea6675de-b9d6-42fb-a20c-286897ddcd33",
   "metadata": {},
   "outputs": [
    {
     "data": {
      "text/plain": [
       "' this\\nshould be an multiline comment\\nwhich is not what I want '"
      ]
     },
     "execution_count": 2,
     "metadata": {},
     "output_type": "execute_result"
    }
   ],
   "source": [
    "''' this\n",
    "should be an multiline comment\n",
    "which is not what I want '''"
   ]
  },
  {
   "cell_type": "code",
   "execution_count": 3,
   "id": "7a512d4c-ba3f-47b1-a10f-2e80890d4b17",
   "metadata": {},
   "outputs": [
    {
     "name": "stdout",
     "output_type": "stream",
     "text": [
      "0\n",
      "1\n",
      "2\n",
      "3\n",
      "4\n",
      "hello\n"
     ]
    }
   ],
   "source": [
    "for i in range (5) :\n",
    "    print(i)\n",
    "print(\"hello\")"
   ]
  },
  {
   "cell_type": "code",
   "execution_count": 4,
   "id": "aaa0d34d-9377-4fb3-bf0f-f04062e3abd0",
   "metadata": {},
   "outputs": [
    {
     "name": "stdout",
     "output_type": "stream",
     "text": [
      "26\n",
      "11\n"
     ]
    }
   ],
   "source": [
    "#multiline statement\n",
    "st = 1 + 3 + 4 + \\\n",
    "4 + 5 + 3 + \\\n",
    "6\n",
    "print(st)\n",
    "# or we can use this curly braces\n",
    "st2 = (4 +4 +\n",
    "        0 +3)\n",
    "print(st2)"
   ]
  },
  {
   "cell_type": "code",
   "execution_count": 5,
   "id": "4bb09f54-c4e1-4318-80ab-848859f4a285",
   "metadata": {},
   "outputs": [
    {
     "name": "stdout",
     "output_type": "stream",
     "text": [
      "12\n",
      "23\n"
     ]
    }
   ],
   "source": [
    "# declaring multi statements in one line\n",
    "a = 12; b= 23; print(a); print(b)"
   ]
  },
  {
   "cell_type": "code",
   "execution_count": 6,
   "id": "fd3e7b82-6e21-4966-9e26-b7932bc1ba0d",
   "metadata": {},
   "outputs": [
    {
     "name": "stdout",
     "output_type": "stream",
     "text": [
      "1275\n"
     ]
    }
   ],
   "source": [
    "#adding that for loop in one line\n",
    "print(sum(i for i in range(1, 51)))"
   ]
  },
  {
   "cell_type": "code",
   "execution_count": 7,
   "id": "dd6bd041-debd-4aba-b2f8-576a9d8f3a6f",
   "metadata": {},
   "outputs": [
    {
     "name": "stdout",
     "output_type": "stream",
     "text": [
      "The distance between the two points is:  1.0\n"
     ]
    }
   ],
   "source": [
    "import math\n",
    "\n",
    "def calculate_distance(x1, y1, x2, y2):\n",
    "    distance = math.sqrt((x2 - x1)**2 + (y2 - y1)**2)\n",
    "    return distance\n",
    "\n",
    "# Taking input from the user\n",
    "x1 = float(input(\"Enter the x-coordinate of the first point: \"))\n",
    "y1 = float(input(\"Enter the y-coordinate of the first point: \"))\n",
    "x2 = float(input(\"Enter the x-coordinate of the second point: \"))\n",
    "y2 = float(input(\"Enter the y-coordinate of the second point: \"))\n",
    "\n",
    "# Calculating and printing the distance\n",
    "distance = calculate_distance(x1, y1, x2, y2)\n",
    "print(f\"The distance between the two points is: \", distance)\n"
   ]
  },
  {
   "cell_type": "code",
   "execution_count": 8,
   "id": "ea04c429-4445-47b1-b5d2-c228046e673d",
   "metadata": {},
   "outputs": [
    {
     "name": "stdout",
     "output_type": "stream",
     "text": [
      "\n",
      "Please wait a moment while I gather a list of all available modules...\n",
      "\n"
     ]
    },
    {
     "name": "stderr",
     "output_type": "stream",
     "text": [
      "/opt/homebrew/anaconda3/lib/python3.11/site-packages/_distutils_hack/__init__.py:33: UserWarning: Setuptools is replacing distutils.\n",
      "  warnings.warn(\"Setuptools is replacing distutils.\")\n"
     ]
    },
    {
     "name": "stdout",
     "output_type": "stream",
     "text": [
      "IPython             asynchat            ipaddress           readline\n",
      "OpenSSL             asyncio             ipykernel           referencing\n",
      "PIL                 asyncore            ipykernel_launcher  repo_cli\n",
      "PyQt5               atexit              ipywidgets          reprlib\n",
      "__future__          attr                itertools           requests\n",
      "__hello__           attrs               jedi                requests_toolbelt\n",
      "__phello__          audioop             jinja2              resource\n",
      "_abc                babel               json                rfc3339_validator\n",
      "_aix_support        backcall            json5               rfc3986_validator\n",
      "_argon2_cffi_bindings backports           jsonpatch           rlcompleter\n",
      "_ast                base64              jsonpointer         rpds\n",
      "_asyncio            bdb                 jsonschema          ruamel_yaml\n",
      "_bisect             binascii            jsonschema_specifications runpy\n",
      "_blake2             binstar_client      jupyter             sched\n",
      "_bootsubprocess     bisect              jupyter_client      secrets\n",
      "_brotli             bleach              jupyter_console     select\n",
      "_bz2                boltons             jupyter_core        selectors\n",
      "_cffi_backend       brotli              jupyter_events      semver\n",
      "_codecs             bs4                 jupyter_lsp         send2trash\n",
      "_codecs_cn          builtins            jupyter_server      setuptools\n",
      "_codecs_hk          bz2                 jupyter_server_terminals shelve\n",
      "_codecs_iso2022     cProfile            jupyterlab          shlex\n",
      "_codecs_jp          calendar            jupyterlab_pygments shutil\n",
      "_codecs_kr          certifi             jupyterlab_server   signal\n",
      "_codecs_tw          cffi                jupyterlab_widgets  sipbuild\n",
      "_collections        cgi                 jwt                 site\n",
      "_collections_abc    cgitb               keyring             six\n",
      "_compat_pickle      chardet             keyword             smtpd\n",
      "_compression        charset_normalizer  lib2to3             smtplib\n",
      "_contextvars        chunk               libarchive          snappy\n",
      "_crypt              click               libfuturize         sndhdr\n",
      "_csv                cloudpickle         libmambapy          sniffio\n",
      "_ctypes             clyent              libpasteurize       socket\n",
      "_ctypes_test        cmath               lief                socketserver\n",
      "_curses             cmd                 linecache           socks\n",
      "_curses_panel       code                locale              sockshandler\n",
      "_datetime           codecs              locket              soupsieve\n",
      "_dbm                codeop              logging             sqlite3\n",
      "_decimal            cognite_jupyterlab_copilot lzma                sre_compile\n",
      "_distutils_hack     collections         mailbox             sre_constants\n",
      "_elementtree        colorsys            mailcap             sre_parse\n",
      "_functools          comm                markupsafe          ssl\n",
      "_hashlib            compileall          marshal             stack_data\n",
      "_heapq              concurrent          math                stat\n",
      "_imp                conda               matplotlib_inline   statistics\n",
      "_io                 conda_build         menuinst            string\n",
      "_json               conda_content_trust mimetypes           stringprep\n",
      "_locale             conda_env           mistune             struct\n",
      "_lsprof             conda_index         mmap                subprocess\n",
      "_lzma               conda_libmamba_solver modulefinder        sunau\n",
      "_markupbase         conda_pack          more_itertools      symtable\n",
      "_md5                conda_package_handling msgpack             sys\n",
      "_multibytecodec     conda_package_streaming multidict           sysconfig\n",
      "_multiprocessing    conda_token         multiprocessing     syslog\n",
      "_opcode             conda_verify        navigator_updater   tabnanny\n",
      "_operator           configparser        nbclient            tarfile\n",
      "_osx_support        contextlib          nbconvert           telnetlib\n",
      "_pickle             contextvars         nbformat            tempfile\n",
      "_posixshmem         copy                nest_asyncio        terminado\n",
      "_posixsubprocess    copyreg             netrc               termios\n",
      "_py_abc             crypt               nis                 test\n",
      "_pydecimal          cryptography        nntplib             test_pycosat\n",
      "_pyio               csv                 notebook            textwrap\n",
      "_queue              ctypes              notebook_shim       this\n",
      "_random             curses              ntpath              threading\n",
      "_scproxy            dask                nturl2path          time\n",
      "_sha1               dataclasses         numbers             timeit\n",
      "_sha256             datetime            opcode              tinycss2\n",
      "_sha3               dateutil            operator            tkinter\n",
      "_sha512             dbm                 optparse            tlz\n",
      "_signal             debugpy             os                  token\n",
      "_sitebuiltins       decimal             overrides           tokenize\n",
      "_socket             decorator           packaging           tomllib\n",
      "_sqlite3            defusedxml          pandocfilters       toolz\n",
      "_sre                difflib             parso               tornado\n",
      "_ssl                dis                 partd               tqdm\n",
      "_stat               distro              past                trace\n",
      "_statistics         distutils           pathlib             traceback\n",
      "_string             doctest             pdb                 tracemalloc\n",
      "_strptime           dotenv              pexpect             traitlets\n",
      "_struct             email               pickle              truststore\n",
      "_symtable           encodings           pickleshare         tty\n",
      "_sysconfigdata__darwin_darwin ensurepip           pickletools         turtle\n",
      "_sysconfigdata_arm64_apple_darwin20_0_0 entrypoints         pip                 turtledemo\n",
      "_testbuffer         enum                pipes               types\n",
      "_testcapi           errno               pkce                typing\n",
      "_testclinic         executing           pkg_resources       typing_extensions\n",
      "_testimportmultiple fastjsonschema      pkginfo             ujson\n",
      "_testinternalcapi   faulthandler        pkgutil             unicodedata\n",
      "_testmultiphase     fcntl               platform            unittest\n",
      "_thread             filecmp             platformdirs        urllib\n",
      "_threading_local    fileinput           plistlib            urllib3\n",
      "_tkinter            filelock            pluggy              uu\n",
      "_tokenize           fnmatch             ply                 uuid\n",
      "_tracemalloc        fractions           poplib              venv\n",
      "_typing             frozenlist          posix               warnings\n",
      "_uuid               fsspec              posixpath           wave\n",
      "_warnings           ftplib              pprint              wcwidth\n",
      "_weakref            functools           profile             weakref\n",
      "_weakrefset         future              prometheus_client   webbrowser\n",
      "_xxsubinterpreters  gc                  prompt_toolkit      webencodings\n",
      "_xxtestfuzz         genericpath         pstats              websocket\n",
      "_yaml               getopt              psutil              wheel\n",
      "_zoneinfo           getpass             pty                 widgetsnbextension\n",
      "abc                 gettext             ptyprocess          wsgiref\n",
      "aifc                glob                pure_eval           xdrlib\n",
      "aiohttp             graphlib            pwd                 xml\n",
      "aiosignal           grp                 py_compile          xmlrpc\n",
      "anaconda_anon_usage gzip                pyclbr              xxlimited\n",
      "anaconda_catalogs   hashlib             pycosat             xxlimited_35\n",
      "anaconda_cloud_auth heapq               pycparser           xxsubtype\n",
      "anaconda_navigator  hmac                pydantic            yaml\n",
      "anaconda_project    html                pydoc               yarl\n",
      "antigravity         http                pydoc_data          zipapp\n",
      "anyio               idlelib             pyexpat             zipfile\n",
      "appdirs             idna                pygments            zipimport\n",
      "appnope             imaplib             pythonjsonlogger    zipp\n",
      "archspec            imghdr              pytz                zlib\n",
      "argon2              imp                 qtconsole           zmq\n",
      "argparse            importlib           qtpy                zoneinfo\n",
      "array               importlib_metadata  queue               zstandard\n",
      "ast                 inspect             quopri              \n",
      "asttokens           intake              random              \n",
      "async_lru           io                  re                  \n",
      "\n",
      "Enter any module name to get more help.  Or, type \"modules spam\" to search\n",
      "for modules whose name or summary contain the string \"spam\".\n",
      "\n"
     ]
    }
   ],
   "source": [
    "help('modules')"
   ]
  },
  {
   "cell_type": "code",
   "execution_count": 9,
   "id": "e4b3a120-0e9c-4a34-a0ef-207c0e4e103c",
   "metadata": {},
   "outputs": [
    {
     "name": "stdout",
     "output_type": "stream",
     "text": [
      "7.5\n"
     ]
    }
   ],
   "source": [
    "#write a program to calculate area of triangle from user\n",
    "\n",
    "def area_of_triangle(height, base) :\n",
    "    half = 0.5\n",
    "    area  = half*base*height\n",
    "    return area\n",
    "\n",
    "height = float(input(\"Enter the perpendicular height of triangle : \"))\n",
    "base = float(input(\"Enter the base of triangle : \"))\n",
    "print(area_of_triangle(height, base))"
   ]
  },
  {
   "cell_type": "code",
   "execution_count": 27,
   "id": "1aa16f5e-bb56-47e7-a740-9e75de2e750e",
   "metadata": {},
   "outputs": [
    {
     "name": "stdout",
     "output_type": "stream",
     "text": [
      "[6]\n"
     ]
    },
    {
     "data": {
      "text/plain": [
       "' isinstance() function is used to check if the object (first argument) is an instance or subclass of classinfo class (second argument).'"
      ]
     },
     "execution_count": 27,
     "metadata": {},
     "output_type": "execute_result"
    }
   ],
   "source": [
    "s = \"This is interesting to note that I am making this string \";\n",
    "a = [3*2]\n",
    "\n",
    "print(a)\n",
    "''' isinstance() function is used to check if the object (first argument) is an instance or subclass of classinfo class (second argument).'''\n",
    "\n",
    "#print(isinstance(s, str))"
   ]
  },
  {
   "cell_type": "code",
   "execution_count": 28,
   "id": "65d252d2-cb48-444e-9617-6a15a5354855",
   "metadata": {},
   "outputs": [
    {
     "name": "stdout",
     "output_type": "stream",
     "text": [
      "Currency Count -> \n",
      "2000  :  3.945\n"
     ]
    }
   ],
   "source": [
    "#to find out the minimum no. of notes required\n",
    "\n",
    "def calculate_notes(amount) :\n",
    "    notes = [2000, 500, 200, 100, 50, 20, 10, 5, 2, 1]\n",
    "    noteCounter = [0, 0, 0, 0, 0, 0, 0, 0, 0, 0]\n",
    "    print(\"Currency Count -> \")\n",
    "\n",
    "    for i, j in zip(notes, noteCounter) :\n",
    "        if amount >= i :\n",
    "            j = amount/i\n",
    "            amount = amount - j*i\n",
    "            print(i, \" : \", j)\n",
    "\n",
    "amount = int(input(\"Enter the amount : \"))\n",
    "calculate_notes(amount)"
   ]
  },
  {
   "cell_type": "code",
   "execution_count": 31,
   "id": "68724b5b-ba3e-41c0-804d-76304c16c2c3",
   "metadata": {
    "scrolled": true
   },
   "outputs": [
    {
     "name": "stdout",
     "output_type": "stream",
     "text": [
      "24\n",
      "hello\n",
      "10\n"
     ]
    }
   ],
   "source": [
    "s = \"This is online ai course\"\n",
    "s1 = 'This is also string'\n",
    "s2 = \"\"\" this is a fucking docstring\n",
    "that can be multipline\"\"\"\n",
    "\n",
    "# len() function to find the length of the code :\n",
    "a = len(s)\n",
    "print(a)\n",
    "\n",
    "# slicing a[0:n] :\n",
    "\n",
    "class test : \n",
    "    x = 10\n",
    "    print(\"hello\")\n",
    "\n",
    "a = test.x\n",
    "print(a)\n"
   ]
  },
  {
   "cell_type": "code",
   "execution_count": 32,
   "id": "4e730b76",
   "metadata": {},
   "outputs": [
    {
     "name": "stdout",
     "output_type": "stream",
     "text": [
      "hello\n",
      "10\n"
     ]
    }
   ],
   "source": [
    "class test : \n",
    "    x = 10\n",
    "    print(\"hello\")\n",
    "\n",
    "a = test.x\n",
    "print(a)"
   ]
  },
  {
   "cell_type": "code",
   "execution_count": 33,
   "id": "0360dc6b-b87e-4ca6-818a-c9a9e4dfe77f",
   "metadata": {},
   "outputs": [
    {
     "name": "stdout",
     "output_type": "stream",
     "text": [
      "[5, 4, 3, 2, 1]\n"
     ]
    }
   ],
   "source": [
    "#print list in reverse\n",
    "\n",
    "list = [1,2,3,4,5]\n",
    "firstIndex = 0\n",
    "lastIndex = len(list)-1\n",
    "while (firstIndex < lastIndex):\n",
    "    #swap\n",
    "    list[firstIndex] , list[lastIndex] = list[lastIndex], list[firstIndex]\n",
    "    firstIndex = firstIndex + 1\n",
    "    lastIndex = lastIndex - 1\n",
    "\n",
    "print(list)"
   ]
  },
  {
   "cell_type": "code",
   "execution_count": 34,
   "id": "b27abf23-26e2-4e57-97f5-c7e6d2833b6c",
   "metadata": {},
   "outputs": [
    {
     "name": "stdout",
     "output_type": "stream",
     "text": [
      "78.0 1265.0\n"
     ]
    }
   ],
   "source": [
    "num1 = float(input(\"Enter 1st number : \"))\n",
    "num2 = float(input(\"Enter 2nd number : \"))\n",
    "\n",
    "sum = num1 + num2\n",
    "product = num1 * num2 \n",
    "\n",
    "print(sum, product)"
   ]
  },
  {
   "cell_type": "code",
   "execution_count": 35,
   "id": "b1858dce-a3d9-4ef9-bbfd-e6a23099b9c0",
   "metadata": {},
   "outputs": [
    {
     "name": "stdout",
     "output_type": "stream",
     "text": [
      "dict_keys(['C', 'Java', 'Python'])\n",
      "{'C': 50, 'Java': 40, 'Python': 50}\n"
     ]
    }
   ],
   "source": [
    "# what is dictionary\n",
    "''' printing key : dictioanary_namy.keys() method : '''\n",
    "\n",
    "dic = {\"C\":50, \"Java\":40, \"Python\":50}\n",
    "print(dic.keys())\n",
    "print(dic)"
   ]
  },
  {
   "cell_type": "code",
   "execution_count": 36,
   "id": "6cf4df73-0b0e-4685-84fb-c31bec75e011",
   "metadata": {},
   "outputs": [
    {
     "name": "stdout",
     "output_type": "stream",
     "text": [
      "The year is leap year\n"
     ]
    }
   ],
   "source": [
    "#leap year program\n",
    "\n",
    "def leapYear(year) :\n",
    "   if (year % 4 == 0 and year % 100 != 0) or (year % 400 == 0) :\n",
    "      return True\n",
    "   else :\n",
    "      return False\n",
    "\n",
    "year = int(input(\"Enter the year : \"))\n",
    "if (leapYear(year)) :\n",
    "   print(\"The year is leap year\")\n",
    "else :\n",
    "    print(\"The year is not leap year\")\n",
    "\n",
    "\n"
   ]
  },
  {
   "cell_type": "code",
   "execution_count": 37,
   "id": "aa3b851c-3c76-4c93-8f70-61c94b3561ce",
   "metadata": {},
   "outputs": [
    {
     "name": "stdout",
     "output_type": "stream",
     "text": [
      "B\n"
     ]
    }
   ],
   "source": [
    "def calculate_grade(percentage):\n",
    "    if percentage >= 90:\n",
    "        return 'A'\n",
    "    elif percentage >= 80:\n",
    "        return 'B'\n",
    "    elif percentage >= 70:\n",
    "        return 'C'\n",
    "    elif percentage >= 60:\n",
    "        return 'D'\n",
    "    else:\n",
    "        return 'Fail'\n",
    "\n",
    "marks_percentage = float(input(\"Enter the percentage of marks: \"))\n",
    "\n",
    "grade = calculate_grade(marks_percentage)\n",
    "print(grade)\n",
    "        "
   ]
  },
  {
   "cell_type": "code",
   "execution_count": 38,
   "id": "4effbeba-cccb-468b-aba1-6208c548a74b",
   "metadata": {},
   "outputs": [
    {
     "name": "stdout",
     "output_type": "stream",
     "text": [
      "[12, 23, 23, 56, 67, 24]\n",
      "key is present at :  3\n",
      "[12, 23, 56, 67, 24, 99]\n",
      "[33, 12, 23, 56, 67, 24]\n",
      "[12, 23, 56, 67, 24, 99]\n",
      "23\n"
     ]
    }
   ],
   "source": [
    "l1 = [12, 23, 23, 56, 67, 24]\n",
    "print(l1)\n",
    "length_l1 = len(l1)\n",
    "rmv = l1.pop(2)\n",
    "add = [33] + l1\n",
    "end = l1.append(99)\n",
    "key = 67\n",
    "\n",
    "def search(l1, key) :\n",
    "    for i in range (0, len(l1)) :\n",
    "        if (l1[i] == key) :\n",
    "            return i\n",
    "        \n",
    "\n",
    "\n",
    "src = search(l1, key)\n",
    "print(\"key is present at : \", src)     \n",
    "print(l1)\n",
    "print(add)\n",
    "print(l1)\n",
    "print(rmv)"
   ]
  },
  {
   "cell_type": "code",
   "execution_count": 39,
   "id": "ac6ed0d4",
   "metadata": {},
   "outputs": [
    {
     "name": "stdout",
     "output_type": "stream",
     "text": [
      "The value of a is 5 and b is 7\n",
      "The value of a is 7 and b is 5\n",
      "Sum of 5 and 7 is 12\n"
     ]
    }
   ],
   "source": [
    "#output formatting\n",
    "\n",
    "a = 5\n",
    "b = 7\n",
    "print(\"The value of a is {} and b is {}\".format(a, b))\n",
    "print(\"The value of a is {1} and b is {0}\".format(a, b))\n",
    "print(\"Sum of \" + str(a) + \" and \" + str(b) + \" is \" + str(a+b))\n",
    "\n"
   ]
  },
  {
   "cell_type": "code",
   "execution_count": 40,
   "id": "b1d79fba",
   "metadata": {},
   "outputs": [
    {
     "name": "stdout",
     "output_type": "stream",
     "text": [
      "True\n"
     ]
    }
   ],
   "source": [
    "d = {'a': 1, 'b': 2, 'c': 3}\n",
    "print('a' in d)"
   ]
  },
  {
   "cell_type": "code",
   "execution_count": 41,
   "id": "71a3101a-9154-44c2-a1e4-5d300b76ef12",
   "metadata": {
    "scrolled": true
   },
   "outputs": [
    {
     "name": "stdout",
     "output_type": "stream",
     "text": [
      "False\n"
     ]
    }
   ],
   "source": [
    "n = 10\n",
    "if n < 10 :\n",
    "    print(\"hello\")\n",
    "else :\n",
    "    print(False)"
   ]
  },
  {
   "cell_type": "code",
   "execution_count": 42,
   "id": "5a387305-2b0d-4428-b7b6-1070aead86ee",
   "metadata": {},
   "outputs": [
    {
     "name": "stdout",
     "output_type": "stream",
     "text": [
      "eligible for coding\n"
     ]
    }
   ],
   "source": [
    "#write a program that shows elgigble for coding or not\n",
    "\n",
    "age = int(input(\"Enter your age : \"))\n",
    "\n",
    "if (age >= 18) :\n",
    "    print(\"eligible for coding\")\n",
    "else :\n",
    "    print(\"Not eligible\")"
   ]
  },
  {
   "cell_type": "code",
   "execution_count": 43,
   "id": "4b0d5526-fef3-4934-ab3f-1998211885ff",
   "metadata": {},
   "outputs": [
    {
     "name": "stdout",
     "output_type": "stream",
     "text": [
      "Eligible\n"
     ]
    }
   ],
   "source": [
    "msg = \"Eligible\" if age >= 18 else \"not eligible\"\n",
    "print(msg)"
   ]
  },
  {
   "cell_type": "code",
   "execution_count": 44,
   "id": "bcbf3e11-5461-4126-91e7-3af3add61437",
   "metadata": {},
   "outputs": [
    {
     "name": "stdout",
     "output_type": "stream",
     "text": [
      "class\n"
     ]
    }
   ],
   "source": [
    "marks = 90\n",
    "age = 90\n",
    "\n",
    "if marks is age :\n",
    "    print(\"class\")\n",
    "else :\n",
    "    print(marks)"
   ]
  },
  {
   "cell_type": "code",
   "execution_count": 45,
   "id": "a71d7dcb-dc9f-43d1-b227-46bca0efdd24",
   "metadata": {},
   "outputs": [
    {
     "name": "stdout",
     "output_type": "stream",
     "text": [
      "33\n"
     ]
    }
   ],
   "source": [
    "#Chained Comparison\n",
    "\n",
    "number = int(input(\"Enter the number : \"))\n",
    "\n",
    "if (number > 0) :\n",
    "    print(number)\n",
    "elif (number < 0) :\n",
    "    print(-number)\n",
    "elif (number == 0) : \n",
    "    print(\"Invalid Input\")\n",
    "\n"
   ]
  },
  {
   "cell_type": "code",
   "execution_count": 46,
   "id": "8b5b923d-6182-43ce-933b-0d912b2a637c",
   "metadata": {},
   "outputs": [],
   "source": [
    "x = 2\n",
    "if x == 2 :\n",
    "    pass\n",
    "else :\n",
    "    print(\"hello\")"
   ]
  },
  {
   "cell_type": "code",
   "execution_count": null,
   "id": "60d68e83-846e-4acd-875f-7bc41d387633",
   "metadata": {},
   "outputs": [],
   "source": [
    "def calculate_gross_salary(basic_salary):\n",
    "    if basic_salary < 20000:\n",
    "        da_percentage = 0.10\n",
    "    elif 20000 <= basic_salary < 50000:\n",
    "        da_percentage = 0.10\n",
    "        bonus = 10000  \n",
    "    else:\n",
    "        da_percentage = 0.10\n",
    "        bonus = 5000  \n",
    "\n",
    "    da = basic_salary * da_percentage\n",
    "\n",
    "    gross_salary = basic_salary + da + bonus\n",
    "\n",
    "    return gross_salary\n",
    "\n",
    "ramesh_basic_salary = int(input(\"Enter the ramesh basic salary\"))\n",
    "gross_salary_ramesh = calculate_gross_salary(ramesh_basic_salary)\n",
    "print(\"Ramesh's Gross Salary:\", gross_salary_ramesh)\n"
   ]
  },
  {
   "cell_type": "code",
   "execution_count": 50,
   "id": "25fd2812-ade5-494d-b8b2-85afe6e89a8c",
   "metadata": {},
   "outputs": [
    {
     "name": "stdout",
     "output_type": "stream",
     "text": [
      "0\n"
     ]
    }
   ],
   "source": [
    "a = [10, 20, 30, 40]\n",
    "sum = 0\n",
    "i = 0\n",
    "\n",
    "while () :\n",
    "    sum += i\n",
    "    i += 1\n",
    "print(sum)"
   ]
  },
  {
   "cell_type": "code",
   "execution_count": 51,
   "id": "ad790adf-de30-4dd7-a602-0768a1d81adb",
   "metadata": {},
   "outputs": [
    {
     "name": "stdout",
     "output_type": "stream",
     "text": [
      "10\n",
      "3\n",
      "4\n",
      "8\n",
      "25\n"
     ]
    }
   ],
   "source": [
    "lst = [10, 3, 4,8]\n",
    "sum = 0\n",
    "for i in lst :\n",
    "    sum += i\n",
    "    print(i)\n",
    "\n",
    "print(sum)"
   ]
  },
  {
   "cell_type": "code",
   "execution_count": 54,
   "id": "b28cdfdd-e3a9-45f6-a7a6-c993de23629b",
   "metadata": {},
   "outputs": [
    {
     "name": "stdout",
     "output_type": "stream",
     "text": [
      "2 3 4 5 6 7 8 9 10 11 12 13 "
     ]
    }
   ],
   "source": [
    "#write a program to find the odd/even no's from start to end 2,50\n",
    "\n",
    "start = int(input(\"Enter the start : \"))\n",
    "end = int(input(\"Enter the end : \"))\n",
    "for i in range(start, end+1) :\n",
    "    if (i % 2 == 0) :\n",
    "        print(i, end = \" \")\n",
    "    else : \n",
    "        print(i, end = \" \")\n",
    "        "
   ]
  },
  {
   "cell_type": "code",
   "execution_count": 55,
   "id": "4ae174c6",
   "metadata": {},
   "outputs": [
    {
     "name": "stdout",
     "output_type": "stream",
     "text": [
      "Value=apple, index=0\n",
      "Value=banana, index=1\n",
      "Value=cherry, index=2\n"
     ]
    }
   ],
   "source": [
    "fruits = [\"apple\", \"banana\", \"cherry\"]\n",
    "\n",
    "for i, v in enumerate(fruits):\n",
    "    print(\"Value={}, index={}\".format(v, i))"
   ]
  },
  {
   "cell_type": "code",
   "execution_count": 56,
   "id": "5a0ae325",
   "metadata": {},
   "outputs": [
    {
     "name": "stdout",
     "output_type": "stream",
     "text": [
      "dogs is having 4 alphabets\n",
      "cat is having 3 alphabets\n",
      "goat is having 4 alphabets\n"
     ]
    }
   ],
   "source": [
    "#write the length of the alphabets of the element of the list\n",
    "\n",
    "list = [\"dogs\", \"cat\", \"goat\"]\n",
    "for i in list :\n",
    "    print(i,\"is having\",len(i), \"alphabets\")\n"
   ]
  },
  {
   "cell_type": "code",
   "execution_count": 58,
   "id": "40c1a516",
   "metadata": {},
   "outputs": [
    {
     "name": "stdout",
     "output_type": "stream",
     "text": [
      "54 x 1 = 54\n",
      "54 x 2 = 108\n",
      "54 x 3 = 162\n",
      "54 x 4 = 216\n",
      "54 x 5 = 270\n",
      "54 x 6 = 324\n",
      "54 x 7 = 378\n",
      "54 x 8 = 432\n",
      "54 x 9 = 486\n",
      "54 x 10 = 540\n",
      "54 x 11 = 594\n",
      "54 x 12 = 648\n",
      "54 x 13 = 702\n",
      "54 x 14 = 756\n",
      "54 x 15 = 810\n",
      "54 x 16 = 864\n",
      "54 x 17 = 918\n",
      "54 x 18 = 972\n",
      "54 x 19 = 1026\n",
      "54 x 20 = 1080\n"
     ]
    }
   ],
   "source": [
    "#multiplication table\n",
    "\n",
    "num = int(input(\"Enter the number : \"))\n",
    "start = int(input(\"Enter the start : \"))\n",
    "end = int(input(\"Enter the end : \"))\n",
    "for i in range(start, end+1) :\n",
    "    print(num, \"x\", i, \"=\", num*i)\n"
   ]
  },
  {
   "cell_type": "code",
   "execution_count": 63,
   "id": "7b5d70fc",
   "metadata": {},
   "outputs": [
    {
     "name": "stdout",
     "output_type": "stream",
     "text": [
      "[0, 1, 2, 3, 4, 5, 6, 7, 8, 9, 10, 11, 12, 13, 14, 15, 16]\n"
     ]
    }
   ],
   "source": [
    "list2 = []\n",
    "n = int(input())\n",
    "for i in range(0, n) :\n",
    "    ele = i \n",
    "    list2.append(ele)\n",
    "\n",
    "print(list2)\n"
   ]
  },
  {
   "cell_type": "code",
   "execution_count": 69,
   "id": "ef54b338",
   "metadata": {},
   "outputs": [
    {
     "name": "stdout",
     "output_type": "stream",
     "text": [
      "[3, 32, 53, 34, 34, 21]\n",
      "100\n",
      "77\n"
     ]
    }
   ],
   "source": [
    "user_list = []\n",
    "even_sum= 0\n",
    "odd_sum = 0\n",
    "size = int(input(\"Enter the size of list : \"))\n",
    "for i in range(0, size) :\n",
    "    element = int(input())\n",
    "    user_list.append(element)\n",
    "    if (element % 2 == 0) :\n",
    "        even_sum += element\n",
    "    else :\n",
    "        odd_sum += element\n",
    "\n",
    "print(user_list)\n",
    "print(even_sum)\n",
    "print(odd_sum)"
   ]
  },
  {
   "cell_type": "code",
   "execution_count": 70,
   "id": "42ea66d7",
   "metadata": {},
   "outputs": [],
   "source": [
    "lst=[10,20,30,6,40]\n",
    "sum=i=1\n",
    "while i<len(lst):\n",
    "    if i<=0:\n",
    "        print(\"invalid\")\n",
    "    i=i+1"
   ]
  },
  {
   "cell_type": "code",
   "execution_count": 71,
   "id": "56a9aef6",
   "metadata": {},
   "outputs": [],
   "source": [
    "for i in range(-3):\n",
    "    print(i)\n"
   ]
  },
  {
   "cell_type": "code",
   "execution_count": 72,
   "id": "2fa588d5",
   "metadata": {},
   "outputs": [
    {
     "name": "stdout",
     "output_type": "stream",
     "text": [
      "0\n",
      "1\n",
      "2\n",
      "3\n",
      "4\n",
      "Loop condition is False.\n"
     ]
    }
   ],
   "source": [
    "count = 0\n",
    "while count < 5:\n",
    "    print(count)\n",
    "    count += 1\n",
    "else:\n",
    "    print(\"Loop condition is False.\")"
   ]
  },
  {
   "cell_type": "code",
   "execution_count": 73,
   "id": "fe7a5213",
   "metadata": {},
   "outputs": [
    {
     "data": {
      "text/plain": [
       "'good\\nmorning'"
      ]
     },
     "execution_count": 73,
     "metadata": {},
     "output_type": "execute_result"
    }
   ],
   "source": [
    "s = 'good\\nmorning'\n",
    "s"
   ]
  },
  {
   "cell_type": "code",
   "execution_count": null,
   "id": "f5e0dd03",
   "metadata": {},
   "outputs": [],
   "source": [
    "x = 1\n",
    "lst = []\n",
    "while True:\n",
    "    ele = input(\"Enter element number {}: (Type 'exit' to stop)\".format(x))\n",
    "    if ele.lower() == 'exit':\n",
    "        break\n",
    "    else:\n",
    "        lst.append(ele)\n",
    "    x += 1\n",
    "print(lst)"
   ]
  },
  {
   "cell_type": "code",
   "execution_count": 75,
   "id": "79fb058a",
   "metadata": {},
   "outputs": [
    {
     "name": "stdout",
     "output_type": "stream",
     "text": [
      "['one', 'two', 'three', 'four']\n",
      "['one', 'two', 'three', 'four', 'five']\n"
     ]
    }
   ],
   "source": [
    "lst = ['one', 'two', 'three' , 'four']\n",
    "print(lst)\n",
    "lst.append('five')\n",
    "\n",
    "print(lst)"
   ]
  },
  {
   "cell_type": "code",
   "execution_count": 76,
   "id": "5ee237fc",
   "metadata": {},
   "outputs": [
    {
     "name": "stdout",
     "output_type": "stream",
     "text": [
      "['one', 'two', 'three', 'four']\n",
      "['one', 'two', 'three', 'five', 'four']\n"
     ]
    }
   ],
   "source": [
    "lst = ['one', 'two', 'three' , 'four']\n",
    "print(lst)\n",
    "lst.insert( 3,'five')\n",
    "\n",
    "print(lst)"
   ]
  },
  {
   "cell_type": "code",
   "execution_count": 77,
   "id": "b7fd6850",
   "metadata": {},
   "outputs": [
    {
     "name": "stdout",
     "output_type": "stream",
     "text": [
      "['one', 'two', 'three', 'four']\n",
      "['one', 'three', 'four']\n"
     ]
    }
   ],
   "source": [
    "lst = ['one', 'two', 'three' , 'four']\n",
    "print(lst)\n",
    "lst.remove('two')\n",
    "\n",
    "print(lst)"
   ]
  },
  {
   "cell_type": "code",
   "execution_count": 78,
   "id": "88c51608",
   "metadata": {},
   "outputs": [
    {
     "name": "stdout",
     "output_type": "stream",
     "text": [
      "['one', 'two', 'three', 'four', 'five']\n"
     ]
    }
   ],
   "source": [
    "lst = ['one', 'two', 'three']\n",
    "lst1 = ['four','five']\n",
    "\n",
    "lst.extend(lst1)\n",
    "\n",
    "print(lst)"
   ]
  },
  {
   "cell_type": "code",
   "execution_count": 80,
   "id": "44dbc9e5",
   "metadata": {},
   "outputs": [
    {
     "name": "stdout",
     "output_type": "stream",
     "text": [
      "Stack: [1, 2]\n",
      "Popped Element: 3\n"
     ]
    }
   ],
   "source": [
    "stack = []\n",
    "\n",
    "stack.append(1)\n",
    "stack.append(2)\n",
    "stack.append(3)\n",
    "\n",
    "popped_element = stack.pop()\n",
    "\n",
    "print(\"Stack:\", stack)\n",
    "print(\"Popped Element:\", popped_element)\n"
   ]
  },
  {
   "cell_type": "code",
   "execution_count": 81,
   "id": "71a976d3",
   "metadata": {},
   "outputs": [
    {
     "name": "stdout",
     "output_type": "stream",
     "text": [
      "Sorted list: [1, 2, 3, 3, 4, 5, 6]\n",
      "Oringnal list: [3, 4, 5, 6, 1, 2, 3]\n"
     ]
    }
   ],
   "source": [
    "number = [3,4,5,6,1,2,3]\n",
    "\n",
    "sorted_lst = sorted(number)\n",
    "\n",
    "print(\"Sorted list:\", sorted_lst)\n",
    "\n",
    "print(\"Oringnal list:\", number)"
   ]
  },
  {
   "cell_type": "code",
   "execution_count": 82,
   "id": "d3248aea",
   "metadata": {},
   "outputs": [
    {
     "name": "stdout",
     "output_type": "stream",
     "text": [
      "Element found \n",
      "None\n",
      "[8, 7, 4, 3]\n"
     ]
    }
   ],
   "source": [
    "lst = [3,4,7,8]\n",
    "element = int(input(\"Enter a number : \"))\n",
    "\n",
    "if element in lst :\n",
    "    print(\"Element found \")\n",
    "else :\n",
    "    print(\"Not found\")\n",
    "\n",
    "print(lst.reverse())\n",
    "print(sorted(lst, reverse = True))"
   ]
  },
  {
   "cell_type": "code",
   "execution_count": 83,
   "id": "15e106d5-8f27-460e-97d4-2843ac0bebb1",
   "metadata": {},
   "outputs": [
    {
     "name": "stdout",
     "output_type": "stream",
     "text": [
      "[1, 3, 4, 9, 10]\n"
     ]
    }
   ],
   "source": [
    "l = [10, 9, 4, 3, 1]\n",
    "l.sort()\n",
    "print(l)"
   ]
  },
  {
   "cell_type": "code",
   "execution_count": 84,
   "id": "cbe404a2-06ed-4ef3-b836-e6c8650edc69",
   "metadata": {},
   "outputs": [
    {
     "name": "stdout",
     "output_type": "stream",
     "text": [
      "['hello', ' how', ' are', ' you ']\n"
     ]
    }
   ],
   "source": [
    "s = \"hello, how, are, you \"\n",
    "#we can create list from the string\n",
    "L = s.split(',') #default argument is space of split\n",
    "print(L)"
   ]
  },
  {
   "cell_type": "code",
   "execution_count": 85,
   "id": "967074ea-aa68-4f1d-9e0c-fb1077d1bfcc",
   "metadata": {},
   "outputs": [
    {
     "name": "stdout",
     "output_type": "stream",
     "text": [
      "[4, 29, 7, 8, 3, 5, 3]\n",
      "[4, 29, 7, 8]\n",
      "[4, 29, 7]\n"
     ]
    }
   ],
   "source": [
    "test =  [4,29,7,8,3,5,3]\n",
    "print(test[:])\n",
    "print(test[0:4:1])  #start, end, step\n",
    "print(test[0:3])"
   ]
  },
  {
   "cell_type": "code",
   "execution_count": 86,
   "id": "3a532ad7-99a3-45d0-921c-a0d4855e15b6",
   "metadata": {},
   "outputs": [
    {
     "name": "stdout",
     "output_type": "stream",
     "text": [
      "[5, 10, 3, 6, 10, 12, 15]\n"
     ]
    }
   ],
   "source": [
    "L1 = [5,10,3,6]\n",
    "L2 = [10, 12, 15]\n",
    "L3 = L1 + L2\n",
    "print(L3)"
   ]
  },
  {
   "cell_type": "code",
   "execution_count": 87,
   "id": "0dc1d0cf-79eb-4dee-bd3b-1e6cbcad2a09",
   "metadata": {},
   "outputs": [
    {
     "name": "stdout",
     "output_type": "stream",
     "text": [
      "2\n"
     ]
    }
   ],
   "source": [
    "two_d = [[2,4,5], [2,31,5]]\n",
    "print(len(two_d))"
   ]
  },
  {
   "cell_type": "code",
   "execution_count": 88,
   "id": "ad0312eb-0aaa-4dab-a956-db5dd71eed8a",
   "metadata": {},
   "outputs": [
    {
     "name": "stdout",
     "output_type": "stream",
     "text": [
      "62.5\n",
      "98 42\n",
      "[98, 70, 60, 55, 50, 42]\n"
     ]
    }
   ],
   "source": [
    "marks = [98, 60, 70, 42, 50, 55]\n",
    "sum = 0\n",
    "for i in marks : \n",
    "    sum += i\n",
    "length = len(marks)\n",
    "avg = sum / length\n",
    "print(avg)\n",
    "\n",
    "high = max(marks)\n",
    "low = min(marks)\n",
    "print(high,low)\n",
    "print(sorted(marks, reverse = True))"
   ]
  },
  {
   "cell_type": "code",
   "execution_count": 89,
   "id": "ac327261-d9a5-400c-a672-45eb0c66cf3c",
   "metadata": {},
   "outputs": [
    {
     "name": "stdout",
     "output_type": "stream",
     "text": [
      "1. Add groceries to list\n",
      "2. Display the list\n",
      "3. Which item is purchased\n",
      "4. Exit\n",
      "1. Add groceries to list\n",
      "2. Display the list\n",
      "3. Which item is purchased\n",
      "4. Exit\n",
      "1. Add groceries to list\n",
      "2. Display the list\n",
      "3. Which item is purchased\n",
      "4. Exit\n",
      "1. Add groceries to list\n",
      "2. Display the list\n",
      "3. Which item is purchased\n",
      "4. Exit\n",
      "Groceries list : \n",
      "egg\n",
      "milk\n",
      "butter\n",
      "1. Add groceries to list\n",
      "2. Display the list\n",
      "3. Which item is purchased\n",
      "4. Exit\n"
     ]
    }
   ],
   "source": [
    "def add_groceries(groceries, item) :\n",
    "    groceries.append(item)\n",
    "    return groceries\n",
    "\n",
    "def display_groceries(groceries) :\n",
    "    print(\"Groceries list : \")\n",
    "    for i in groceries :\n",
    "        print(i)\n",
    "\n",
    "def purchase_groceries(groceries, item) :\n",
    "    ele = []\n",
    "    if ele in groceries is NULL :\n",
    "        print(\"list is empty\")\n",
    "    else :\n",
    "        groceries.remove(item)\n",
    "        return groceries\n",
    "\n",
    "groceries = []\n",
    "while True :\n",
    "    print(\"1. Add groceries to list\")\n",
    "    print(\"2. Display the list\")\n",
    "    print(\"3. Which item is purchased\")\n",
    "    print(\"4. Exit\")\n",
    "    choice = int(input(\"Enter the choice : \"))\n",
    "    if choice == 1 :\n",
    "        item = input(\"Enter the item : \")\n",
    "        groceries = add_groceries(groceries, item)\n",
    "    elif choice == 2 :\n",
    "        display_groceries(groceries)\n",
    "    elif choice == 3 :\n",
    "        item = input(\"Enter the item : \")\n",
    "        groceries = purchase_groceries(groceries, item)\n",
    "    elif choice == 4 :\n",
    "        break\n",
    "    else :\n",
    "        print(\"Invalid choice\")"
   ]
  },
  {
   "cell_type": "code",
   "execution_count": 90,
   "id": "f2a908cf-9ce5-4158-84ca-489a9758b94e",
   "metadata": {},
   "outputs": [
    {
     "name": "stdout",
     "output_type": "stream",
     "text": [
      "('abhishek', 34)\n",
      "(4, 5)\n"
     ]
    }
   ],
   "source": [
    "t=('abhishek', 34)\n",
    "print(t)\n",
    "t = (4,5)\n",
    "print(t)"
   ]
  },
  {
   "cell_type": "code",
   "execution_count": 91,
   "id": "76e0ae92",
   "metadata": {},
   "outputs": [
    {
     "name": "stdout",
     "output_type": "stream",
     "text": [
      "21\n"
     ]
    }
   ],
   "source": [
    "t = (1,2,3,4,5,6,(7,8),9,10)\n",
    "#sum all the elements of t before sub tupple\n",
    "sum = 0\n",
    "for i in t :\n",
    "    if isinstance(i, tuple) :\n",
    "        break\n",
    "    sum += i\n",
    "print(sum)\n"
   ]
  },
  {
   "cell_type": "code",
   "execution_count": 92,
   "id": "0f8ed3cf",
   "metadata": {},
   "outputs": [
    {
     "name": "stdout",
     "output_type": "stream",
     "text": [
      "('a', 3)\n",
      "('b', 2)\n",
      "('c', 1)\n",
      "('d', 1)\n",
      "('e', 2)\n"
     ]
    }
   ],
   "source": [
    "def count_elements(lst):\n",
    "    # Step 1: Initialize an empty dictionary\n",
    "    count_dict = {}\n",
    "\n",
    "    # Step 2: Iterate over each element in the list\n",
    "    for element in lst:\n",
    "        # Step 3 and 4: Add element to dictionary or increment its value\n",
    "        if element in count_dict:\n",
    "            count_dict[element] += 1\n",
    "        else:\n",
    "            count_dict[element] = 1\n",
    "\n",
    "    # Step 5: Print each key-value pair as a tuple\n",
    "    for key, value in count_dict.items():\n",
    "        print((key, value))\n",
    "\n",
    "# Test the function\n",
    "count_elements(['a', 'b', 'a', 'c', 'b', 'a', 'd', 'e', 'e'])"
   ]
  },
  {
   "cell_type": "code",
   "execution_count": 93,
   "id": "59b5e12c",
   "metadata": {},
   "outputs": [
    {
     "name": "stdout",
     "output_type": "stream",
     "text": [
      "The most occurring item is 'pen' with 3 occurrences.\n"
     ]
    }
   ],
   "source": [
    "L = [\"pen\", \"ball\", \"eraser\", \"pen\", \"band\", \"pen\", \"Pencil\", \"ball\"]\n",
    "\n",
    "# Create a set to get unique items\n",
    "items = set(L)\n",
    "\n",
    "# Initialize variables to track most occurring item\n",
    "max_occurrences = 0\n",
    "most_occurring_item = None\n",
    "\n",
    "# Iterate through unique items\n",
    "for item in items:\n",
    "    count = 0\n",
    "    for i in L:\n",
    "        if item == i:\n",
    "            count += 1\n",
    "\n",
    "    # Update most occurring item if needed\n",
    "    if count > max_occurrences:\n",
    "        max_occurrences = count\n",
    "        most_occurring_item = item\n",
    "\n",
    "# Print the result\n",
    "print(f\"The most occurring item is '{most_occurring_item}' with {max_occurrences} occurrences.\")"
   ]
  },
  {
   "cell_type": "code",
   "execution_count": 94,
   "id": "0db02d68-59ad-428a-ba41-627dfca9ec59",
   "metadata": {},
   "outputs": [
    {
     "name": "stdout",
     "output_type": "stream",
     "text": [
      "{'soap', 'butter', 'spices', 'oil', 'milk', 'biscuit'} {'butter', 'milk'} 6 2\n"
     ]
    }
   ],
   "source": [
    "#create a set and join them \n",
    "\n",
    "delhi = {'milk', 'butter', 'spices', 'oil'}\n",
    "noida = {'biscuit', 'milk', 'butter', 'soap'}\n",
    "\n",
    "union1 = delhi.union(noida)\n",
    "intersection = delhi.intersection(noida)\n",
    "\n",
    "a = len(union1)\n",
    "b = len(intersection)\n",
    "\n",
    "print(union1, intersection, a, b)"
   ]
  },
  {
   "cell_type": "code",
   "execution_count": 95,
   "id": "2b1a0bde",
   "metadata": {},
   "outputs": [
    {
     "name": "stdout",
     "output_type": "stream",
     "text": [
      "{2, 3, 4, 5, 6, 7} {5}\n"
     ]
    }
   ],
   "source": [
    "#create a list in that list there are two or more sets, find the union and intersection of the sets\n",
    "\n",
    "list = [2,5,{2,3,5}, {2,4,5}, {5,6,7}]\n",
    "\n",
    "union = set()\n",
    "intersection = set(list[2])\n",
    "\n",
    "for i in list :\n",
    "    if isinstance(i, set) :\n",
    "        union = union.union(i)\n",
    "        intersection = intersection.intersection(i)\n",
    "\n",
    "print(union, intersection)"
   ]
  },
  {
   "cell_type": "code",
   "execution_count": 96,
   "id": "d3cd1c49",
   "metadata": {},
   "outputs": [
    {
     "data": {
      "text/plain": [
       "7"
      ]
     },
     "execution_count": 96,
     "metadata": {},
     "output_type": "execute_result"
    }
   ],
   "source": [
    "def add(a, b) :\n",
    "    return a+b\n",
    "\n",
    "a = int(input(\"Enter the num1 : \"))\n",
    "b = int(input(\"enter THe num2 : \"))\n",
    "\n",
    "add(a, b)"
   ]
  },
  {
   "cell_type": "code",
   "execution_count": 97,
   "id": "6f44612b",
   "metadata": {},
   "outputs": [
    {
     "name": "stdout",
     "output_type": "stream",
     "text": [
      "9\n"
     ]
    }
   ],
   "source": [
    "#square oof a number funtion\n",
    "\n",
    "def square(a) :\n",
    "    return a*a\n",
    "\n",
    "a = int(input(\"Enter the number : \"))\n",
    "print(square(a))"
   ]
  },
  {
   "cell_type": "code",
   "execution_count": 99,
   "id": "060dd6ff",
   "metadata": {},
   "outputs": [
    {
     "name": "stdout",
     "output_type": "stream",
     "text": [
      "15\n"
     ]
    }
   ],
   "source": [
    "#find multiplicatio of two number\n",
    "\n",
    "def multiply(a, b) :\n",
    "    return a*b\n",
    "\n",
    "a = int(input(\"Enter the num1 : \"))\n",
    "b = int(input(\"Enter the num2 : \"))\n",
    "print(multiply(a, b))"
   ]
  },
  {
   "cell_type": "code",
   "execution_count": 100,
   "id": "3527edb9",
   "metadata": {},
   "outputs": [
    {
     "name": "stdout",
     "output_type": "stream",
     "text": [
      "7\n"
     ]
    }
   ],
   "source": [
    "#find how many digit are there in a number\n",
    "\n",
    "def count_digit(n) :\n",
    "    count = 0\n",
    "    while n > 0 :\n",
    "        n = n // 10\n",
    "        count += 1\n",
    "    return count\n",
    "\n",
    "n = int(input(\"Enter the number : \"))\n",
    "print(count_digit(n))"
   ]
  },
  {
   "cell_type": "code",
   "execution_count": 101,
   "id": "18a44f45",
   "metadata": {},
   "outputs": [
    {
     "name": "stdout",
     "output_type": "stream",
     "text": [
      "14\n"
     ]
    }
   ],
   "source": [
    "#find the sum of the digit of a number\n",
    "\n",
    "def sum_of_digit(n) :\n",
    "    sum = 0\n",
    "    while n > 0 :\n",
    "        sum += n % 10\n",
    "        n = n // 10\n",
    "    return sum\n",
    "\n",
    "n = int(input(\"Enter the number : \"))\n",
    "print(sum_of_digit(n))"
   ]
  },
  {
   "cell_type": "code",
   "execution_count": 102,
   "id": "6f4d4dd3-c8ae-4fa5-97d1-f84b8fa97b56",
   "metadata": {},
   "outputs": [
    {
     "name": "stdout",
     "output_type": "stream",
     "text": [
      "pen: 3\n",
      "ball: 2\n",
      "eraser: 1\n",
      "band: 1\n",
      "Pencil: 1\n",
      "The most occurring item is: pen\n"
     ]
    }
   ],
   "source": [
    "L = [\"pen\", \"ball\", \"eraser\", \"pen\", \"band\", \"pen\", \"Pencil\", \"ball\"]\n",
    "\n",
    "# Create an empty dictionary to store item occurrences\n",
    "item_counts = {}\n",
    "\n",
    "# Count occurrences of each item in the list\n",
    "for item in L:\n",
    "    if item in item_counts:\n",
    "        item_counts[item] += 1\n",
    "    else:\n",
    "        item_counts[item] = 1\n",
    "\n",
    "# Print the name of the item and its quantity\n",
    "for item, count in item_counts.items():\n",
    "    print(f\"{item}: {count}\")\n",
    "\n",
    "# Find and print the most occurring item\n",
    "most_occuring_item = max(item_counts, key=item_counts.get)\n",
    "print(f\"The most occurring item is: {most_occuring_item}\")\n"
   ]
  },
  {
   "cell_type": "code",
   "execution_count": 103,
   "id": "097fe30a-6da9-42e0-b15e-417f6062b888",
   "metadata": {},
   "outputs": [
    {
     "name": "stdout",
     "output_type": "stream",
     "text": [
      "Sorted data based on price:\n",
      "item2: 15.10\n",
      "item1: 17.20\n",
      "item3: 24.5\n",
      "\n",
      "The second costliest item is: item1\n"
     ]
    }
   ],
   "source": [
    "price = [('item1', '17.20'), ('item2', '15.10'), ('item3', '24.5')]\n",
    "\n",
    "# Sort the data based on price using basic sorting\n",
    "for i in range(len(price)):\n",
    "    for j in range(i + 1, len(price)):\n",
    "        if float(price[i][1]) > float(price[j][1]):\n",
    "            price[i], price[j] = price[j], price[i]\n",
    "\n",
    "# Display the sorted data\n",
    "print(\"Sorted data based on price:\")\n",
    "for item, cost in price:\n",
    "    print(f\"{item}: {cost}\")\n",
    "\n",
    "# Identify the second costliest item\n",
    "second_costliest_item = price[-2][0]\n",
    "print(f\"\\nThe second costliest item is: {second_costliest_item}\")\n"
   ]
  },
  {
   "cell_type": "code",
   "execution_count": 104,
   "id": "81068bac-b737-43d5-8e39-a9d336000ff4",
   "metadata": {},
   "outputs": [
    {
     "name": "stdout",
     "output_type": "stream",
     "text": [
      "((1, 3, 5, 7), (2, 4, 6, 8))\n"
     ]
    }
   ],
   "source": [
    "Data = [(1, 2), (3, 4), (5, 6), (7, 8)]\n",
    "\n",
    "# Separate x and y coordinates into separate tuples\n",
    "x_coordinates = tuple(point[0] for point in Data)\n",
    "y_coordinates = tuple(point[1] for point in Data)\n",
    "\n",
    "# Combine x and y coordinates into a single output tuple\n",
    "output = (x_coordinates, y_coordinates)\n",
    "\n",
    "# Display the result\n",
    "print(output)\n"
   ]
  },
  {
   "cell_type": "code",
   "execution_count": 105,
   "id": "7b143c04-95f7-4930-9a94-cb47e4985795",
   "metadata": {},
   "outputs": [
    {
     "name": "stdout",
     "output_type": "stream",
     "text": [
      "12 10\n"
     ]
    }
   ],
   "source": [
    "def hello(a,b=10) :  #default argument\n",
    "    print(a,b)\n",
    "\n",
    "hello(12)"
   ]
  },
  {
   "cell_type": "code",
   "execution_count": 106,
   "id": "2cc46505",
   "metadata": {},
   "outputs": [
    {
     "name": "stdout",
     "output_type": "stream",
     "text": [
      "99\n",
      "100\n"
     ]
    }
   ],
   "source": [
    "a=99\n",
    "def hello(a) :\n",
    "    a = 100\n",
    "    return a\n",
    "\n",
    "print(a)\n",
    "\n",
    "a = hello(10)   \n",
    "print(a)"
   ]
  },
  {
   "cell_type": "code",
   "execution_count": 107,
   "id": "49f10468",
   "metadata": {},
   "outputs": [
    {
     "name": "stdout",
     "output_type": "stream",
     "text": [
      "HELLO SHARDA\n"
     ]
    }
   ],
   "source": [
    "str = \"hello sharda\"\n",
    "upper= lambda str1:str1.upper()\n",
    "print(upper(str))"
   ]
  },
  {
   "cell_type": "code",
   "execution_count": 108,
   "id": "a2d2410b",
   "metadata": {},
   "outputs": [
    {
     "name": "stdout",
     "output_type": "stream",
     "text": [
      "hello\n"
     ]
    }
   ],
   "source": [
    "greet = lambda:print(\"hello\") \n",
    "greet() "
   ]
  },
  {
   "cell_type": "code",
   "execution_count": 109,
   "id": "aba620bd",
   "metadata": {},
   "outputs": [
    {
     "name": "stdout",
     "output_type": "stream",
     "text": [
      "hello zaid\n"
     ]
    }
   ],
   "source": [
    "greet = lambda name : print(f\"hello {name}\")\n",
    "greet(\"zaid\")"
   ]
  },
  {
   "cell_type": "code",
   "execution_count": 110,
   "id": "266cf8b5",
   "metadata": {},
   "outputs": [
    {
     "name": "stdout",
     "output_type": "stream",
     "text": [
      "9\n"
     ]
    }
   ],
   "source": [
    "#write a function to find square of a number using lambda function\n",
    "\n",
    "square = lambda a : a*a\n",
    "a = int(input(\"Enter the number : \"))\n",
    "print(square(a))"
   ]
  },
  {
   "cell_type": "code",
   "execution_count": 111,
   "id": "faa3c26f",
   "metadata": {},
   "outputs": [
    {
     "name": "stdout",
     "output_type": "stream",
     "text": [
      "124\n"
     ]
    }
   ],
   "source": [
    "#write a function to find the sum of two number using lambda function\n",
    "\n",
    "sum = lambda a, b : a+b\n",
    "a = int(input(\"Enter the num1 : \"))\n",
    "b = int(input(\"Enter the num2 : \"))\n",
    "print(sum(a, b))\n"
   ]
  },
  {
   "cell_type": "code",
   "execution_count": 112,
   "id": "c1d23c88",
   "metadata": {},
   "outputs": [
    {
     "name": "stdout",
     "output_type": "stream",
     "text": [
      "Odd\n"
     ]
    }
   ],
   "source": [
    "#write a function to check wheather a number is even or odd using lambda function\n",
    "\n",
    "even_odd = lambda a : \"Even\" if a % 2 == 0 else \"Odd\"\n",
    "a = int(input(\"Enter the number : \"))\n",
    "print(even_odd(a))\n"
   ]
  },
  {
   "cell_type": "code",
   "execution_count": 113,
   "id": "dbc3fe66",
   "metadata": {},
   "outputs": [
    {
     "name": "stdout",
     "output_type": "stream",
     "text": [
      "32\n"
     ]
    }
   ],
   "source": [
    "#write a function to find the maximum of two number using lambda function\n",
    "\n",
    "max = lambda a, b : a if a > b else b\n",
    "a = int(input(\"Enter the num1 : \"))\n",
    "b = int(input(\"Enter the num2 : \"))\n",
    "print(max(a, b))\n"
   ]
  },
  {
   "cell_type": "code",
   "execution_count": 114,
   "id": "6793215c",
   "metadata": {},
   "outputs": [
    {
     "name": "stdout",
     "output_type": "stream",
     "text": [
      "1024\n"
     ]
    }
   ],
   "source": [
    "#write a find square of a number using lambda function in a defined function\n",
    "\n",
    "def square(a) :\n",
    "    return lambda a : a*a\n",
    "\n",
    "a = int(input(\"Enter the number : \"))\n",
    "s = square(a)\n",
    "print(s(a))"
   ]
  },
  {
   "cell_type": "code",
   "execution_count": null,
   "id": "c9bdd6e1",
   "metadata": {},
   "outputs": [],
   "source": [
    "#lamda function and filter function uses in python to find the even number from the li\n",
    "\n",
    "lst = [1,2,3,4,5,6,7,8,9,10]\n",
    "even = list(filter(lambda a : a % 2 == 0, lst))\n",
    "print(even)"
   ]
  }
 ],
 "metadata": {
  "kernelspec": {
   "display_name": "Python 3 (ipykernel)",
   "language": "python",
   "name": "python3"
  },
  "language_info": {
   "codemirror_mode": {
    "name": "ipython",
    "version": 3
   },
   "file_extension": ".py",
   "mimetype": "text/x-python",
   "name": "python",
   "nbconvert_exporter": "python",
   "pygments_lexer": "ipython3",
   "version": "3.11.7"
  }
 },
 "nbformat": 4,
 "nbformat_minor": 5
}
