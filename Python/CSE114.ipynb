{
 "cells": [
  {
   "cell_type": "code",
   "execution_count": null,
   "id": "d34c6877-a6ff-4f3b-84eb-b6800972c8e5",
   "metadata": {},
   "outputs": [],
   "source": [
    "import keyword\n",
    "\n",
    "print(keyword.kwlist)"
   ]
  },
  {
   "cell_type": "code",
   "execution_count": null,
   "id": "ea6675de-b9d6-42fb-a20c-286897ddcd33",
   "metadata": {},
   "outputs": [],
   "source": [
    "''' this\n",
    "should be an multiline comment\n",
    "which is not what I want '''"
   ]
  },
  {
   "cell_type": "code",
   "execution_count": null,
   "id": "7a512d4c-ba3f-47b1-a10f-2e80890d4b17",
   "metadata": {},
   "outputs": [],
   "source": [
    "for i in range (5) :\n",
    "    print(i)\n",
    "print(\"hello\")"
   ]
  },
  {
   "cell_type": "code",
   "execution_count": null,
   "id": "aaa0d34d-9377-4fb3-bf0f-f04062e3abd0",
   "metadata": {},
   "outputs": [],
   "source": [
    "#multiline statement\n",
    "st = 1 + 3 + 4 + \\\n",
    "4 + 5 + 3 + \\\n",
    "6\n",
    "print(st)\n",
    "# or we can use this curly braces\n",
    "st2 = (4 +4 +\n",
    "        0 +3)\n",
    "print(st2)"
   ]
  },
  {
   "cell_type": "code",
   "execution_count": null,
   "id": "4bb09f54-c4e1-4318-80ab-848859f4a285",
   "metadata": {},
   "outputs": [],
   "source": [
    "# declaring multi statements in one line\n",
    "a = 12; b= 23; print(a); print(b)"
   ]
  },
  {
   "cell_type": "code",
   "execution_count": null,
   "id": "fd3e7b82-6e21-4966-9e26-b7932bc1ba0d",
   "metadata": {},
   "outputs": [],
   "source": [
    "#adding that for loop in one line\n",
    "print(sum(i for i in range(1, 51)))"
   ]
  },
  {
   "cell_type": "code",
   "execution_count": null,
   "id": "dd6bd041-debd-4aba-b2f8-576a9d8f3a6f",
   "metadata": {},
   "outputs": [],
   "source": [
    "import math\n",
    "\n",
    "def calculate_distance(x1, y1, x2, y2):\n",
    "    distance = math.sqrt((x2 - x1)**2 + (y2 - y1)**2)\n",
    "    return distance\n",
    "\n",
    "# Taking input from the user\n",
    "x1 = float(input(\"Enter the x-coordinate of the first point: \"))\n",
    "y1 = float(input(\"Enter the y-coordinate of the first point: \"))\n",
    "x2 = float(input(\"Enter the x-coordinate of the second point: \"))\n",
    "y2 = float(input(\"Enter the y-coordinate of the second point: \"))\n",
    "\n",
    "# Calculating and printing the distance\n",
    "distance = calculate_distance(x1, y1, x2, y2)\n",
    "print(f\"The distance between the two points is: \", distance)\n"
   ]
  },
  {
   "cell_type": "code",
   "execution_count": null,
   "id": "ea04c429-4445-47b1-b5d2-c228046e673d",
   "metadata": {},
   "outputs": [],
   "source": [
    "help('modules')"
   ]
  },
  {
   "cell_type": "code",
   "execution_count": null,
   "id": "e4b3a120-0e9c-4a34-a0ef-207c0e4e103c",
   "metadata": {},
   "outputs": [],
   "source": [
    "#write a program to calculate area of triangle from user\n",
    "\n",
    "def area_of_triangle(height, base) :\n",
    "    half = 0.5\n",
    "    area  = half*base*height\n",
    "    return area\n",
    "\n",
    "height = float(input(\"Enter the perpendicular height of triangle : \"))\n",
    "base = float(input(\"Enter the base of triangle : \"))\n",
    "print(area_of_triangle(height, base))"
   ]
  },
  {
   "cell_type": "code",
   "execution_count": null,
   "id": "1aa16f5e-bb56-47e7-a740-9e75de2e750e",
   "metadata": {},
   "outputs": [],
   "source": [
    "str = \"This is interesting to note that I am making this string \"\n",
    "a = str[3*2]\n",
    "\n",
    "print(a)\n",
    "print(isinstance(str, String))"
   ]
  },
  {
   "cell_type": "code",
   "execution_count": null,
   "id": "65d252d2-cb48-444e-9617-6a15a5354855",
   "metadata": {},
   "outputs": [],
   "source": [
    "#to find out the minimum no. of notes required\n",
    "\n",
    "def calculate_notes(amount) :\n",
    "    notes = [2000, 500, 200, 100, 50, 20, 10, 5, 2, 1]\n",
    "    noteCounter = [0, 0, 0, 0, 0, 0, 0, 0, 0, 0]\n",
    "    print(\"Currency Count -> \")\n",
    "\n",
    "    for i, j in zip(notes, noteCounter) :\n",
    "        if amount >= i :\n",
    "            j = amount/i\n",
    "            amount = amount - j*i\n",
    "            print(i, \" : \", j)\n",
    "\n",
    "amount = int(input(\"Enter the amount : \"))\n",
    "calculate_notes(amount)"
   ]
  },
  {
   "cell_type": "code",
   "execution_count": null,
   "id": "68724b5b-ba3e-41c0-804d-76304c16c2c3",
   "metadata": {
    "scrolled": true
   },
   "outputs": [],
   "source": [
    "s = \"This is online ai course\"\n",
    "s1 = 'This is also string'\n",
    "s2 = \"\"\" this is a fucking docstring\n",
    "that can be multipline\"\"\"\n",
    "\n",
    "# len() function to find the length of the code :\n",
    "a = len(s)\n",
    "print(a)\n",
    "\n",
    "print(a[len(a) - 1])\n",
    "# slicing a[0:n] :\n",
    "\n",
    "class test : \n",
    "    x = 10\n",
    "    print(\"hello\")\n",
    "\n",
    "a = test.x\n",
    "print(a)\n"
   ]
  },
  {
   "cell_type": "code",
   "execution_count": null,
   "id": "4e730b76",
   "metadata": {},
   "outputs": [],
   "source": [
    "class test : \n",
    "    x = 10\n",
    "    print(\"hello\")\n",
    "\n",
    "a = test.x\n",
    "print(a)"
   ]
  },
  {
   "cell_type": "code",
   "execution_count": null,
   "id": "0360dc6b-b87e-4ca6-818a-c9a9e4dfe77f",
   "metadata": {},
   "outputs": [],
   "source": [
    "#print list in reverse\n",
    "\n",
    "list = [1,2,3,4,5]\n",
    "firstIndex = 0\n",
    "lastIndex = len(list)-1\n",
    "while (firstIndex < lastIndex):\n",
    "    #swap\n",
    "    list[firstIndex] , list[lastIndex] = list[lastIndex], list[firstIndex]\n",
    "    firstIndex = firstIndex + 1\n",
    "    lastIndex = lastIndex - 1\n",
    "\n",
    "print(list)"
   ]
  },
  {
   "cell_type": "code",
   "execution_count": null,
   "id": "b27abf23-26e2-4e57-97f5-c7e6d2833b6c",
   "metadata": {},
   "outputs": [],
   "source": [
    "num1 = float(input(\"Enter 1st number : \"))\n",
    "num2 = float(input(\"Enter 2nd number : \"))\n",
    "\n",
    "sum = num1 + num2\n",
    "product = num1 * num2 \n",
    "\n",
    "print(sum, product)"
   ]
  },
  {
   "cell_type": "code",
   "execution_count": null,
   "id": "b1858dce-a3d9-4ef9-bbfd-e6a23099b9c0",
   "metadata": {},
   "outputs": [],
   "source": [
    "# what is dictionary\n",
    "''' printing key : dictioanary_namy.keys() method : '''\n",
    "\n",
    "dic = {\"C\":50, \"Java\":40, \"Python\":50}\n",
    "print(dic.keys())\n",
    "print(dic)"
   ]
  },
  {
   "cell_type": "code",
   "execution_count": null,
   "id": "6cf4df73-0b0e-4685-84fb-c31bec75e011",
   "metadata": {},
   "outputs": [],
   "source": [
    "#leap year program\n",
    "\n",
    "def leapYear(year) :\n",
    "   if (year % 4 == 0 and year % 100 != 0) or (year % 400 == 0) :\n",
    "      return True\n",
    "   else :\n",
    "      return False\n",
    "\n",
    "year = int(input(\"Enter the year : \"))\n",
    "if (leapYear(year)) :\n",
    "   print(\"The year is leap year\")\n",
    "else :\n",
    "    print(\"The year is not leap year\")\n",
    "\n",
    "\n"
   ]
  },
  {
   "cell_type": "code",
   "execution_count": null,
   "id": "aa3b851c-3c76-4c93-8f70-61c94b3561ce",
   "metadata": {},
   "outputs": [],
   "source": [
    "def calculate_grade(percentage):\n",
    "    if percentage >= 90:\n",
    "        return 'A'\n",
    "    elif percentage >= 80:\n",
    "        return 'B'\n",
    "    elif percentage >= 70:\n",
    "        return 'C'\n",
    "    elif percentage >= 60:\n",
    "        return 'D'\n",
    "    else:\n",
    "        return 'Fail'\n",
    "\n",
    "marks_percentage = float(input(\"Enter the percentage of marks: \"))\n",
    "\n",
    "grade = calculate_grade(marks_percentage)\n",
    "print(grade)\n",
    "        "
   ]
  },
  {
   "cell_type": "code",
   "execution_count": null,
   "id": "4effbeba-cccb-468b-aba1-6208c548a74b",
   "metadata": {},
   "outputs": [],
   "source": [
    "l1 = [12, 23, 23, 56, 67, 24]\n",
    "print(l1)\n",
    "length_l1 = len(l1)\n",
    "rmv = l1.pop(2)\n",
    "add = [33] + l1\n",
    "end = l1.append(99)\n",
    "key = 67\n",
    "\n",
    "def search(l1, key) :\n",
    "    for i in range (0, len(l1)) :\n",
    "        if (l1[i] == key) :\n",
    "            return i\n",
    "        \n",
    "\n",
    "\n",
    "src = search(l1, key)\n",
    "print(\"key is present at : \", src)     \n",
    "print(l1)\n",
    "print(add)\n",
    "print(l1)\n",
    "print(rmv)"
   ]
  },
  {
   "cell_type": "code",
   "execution_count": null,
   "id": "ac6ed0d4",
   "metadata": {},
   "outputs": [],
   "source": [
    "#output formatting\n",
    "\n",
    "a = 5\n",
    "b = 7\n",
    "print(\"The value of a is {} and b is {}\".format(a, b))\n",
    "print(\"The value of a is {1} and b is {0}\".format(a, b))\n",
    "print(\"Sum of \" + str(a) + \" and \" + str(b) + \" is \" + str(a+b))\n",
    "\n"
   ]
  },
  {
   "cell_type": "code",
   "execution_count": null,
   "id": "b1d79fba",
   "metadata": {},
   "outputs": [],
   "source": [
    "d = {'a': 1, 'b': 2, 'c': 3}\n",
    "print('a' in d)"
   ]
  },
  {
   "cell_type": "code",
   "execution_count": null,
   "id": "71a3101a-9154-44c2-a1e4-5d300b76ef12",
   "metadata": {
    "scrolled": true
   },
   "outputs": [],
   "source": [
    "n = 10\n",
    "if n < 10 :\n",
    "    print(\"hello\")\n",
    "else :\n",
    "    print(False)"
   ]
  },
  {
   "cell_type": "code",
   "execution_count": null,
   "id": "5a387305-2b0d-4428-b7b6-1070aead86ee",
   "metadata": {},
   "outputs": [],
   "source": [
    "#write a program that shows elgigble for coding or not\n",
    "\n",
    "age = int(input(\"Enter your age : \"))\n",
    "\n",
    "if (age >= 18) :\n",
    "    print(\"eligible for coding\")\n",
    "else :\n",
    "    print(\"Not eligible\")"
   ]
  },
  {
   "cell_type": "code",
   "execution_count": null,
   "id": "4b0d5526-fef3-4934-ab3f-1998211885ff",
   "metadata": {},
   "outputs": [],
   "source": [
    "msg = \"Eligible\" if age >= 18 else \"not eligible\"\n",
    "print(msg)"
   ]
  },
  {
   "cell_type": "code",
   "execution_count": null,
   "id": "bcbf3e11-5461-4126-91e7-3af3add61437",
   "metadata": {},
   "outputs": [],
   "source": [
    "marks = 90\n",
    "age = 90\n",
    "\n",
    "if marks is age :\n",
    "    print(\"class\")\n",
    "else :\n",
    "    print(marks)"
   ]
  },
  {
   "cell_type": "code",
   "execution_count": null,
   "id": "a71d7dcb-dc9f-43d1-b227-46bca0efdd24",
   "metadata": {},
   "outputs": [],
   "source": [
    "#Chained Comparison\n",
    "\n",
    "number = int(input(\"Enter the number : \"))\n",
    "\n",
    "if (number > 0) :\n",
    "    print(number)\n",
    "elif (number < 0) :\n",
    "    print(-number)\n",
    "elif (number == 0) : \n",
    "    print(\"Invalid Input\")\n",
    "\n"
   ]
  },
  {
   "cell_type": "code",
   "execution_count": null,
   "id": "8b5b923d-6182-43ce-933b-0d912b2a637c",
   "metadata": {},
   "outputs": [],
   "source": [
    "x = 2\n",
    "if x == 2 :\n",
    "    pass\n",
    "else :\n",
    "    print(\"hello\")"
   ]
  },
  {
   "cell_type": "code",
   "execution_count": null,
   "id": "60d68e83-846e-4acd-875f-7bc41d387633",
   "metadata": {},
   "outputs": [],
   "source": [
    "def calculate_gross_salary(basic_salary):\n",
    "    if basic_salary < 20000:\n",
    "        da_percentage = 0.10\n",
    "    elif 20000 <= basic_salary < 50000:\n",
    "        da_percentage = 0.10\n",
    "        bonus = 10000  \n",
    "    else:\n",
    "        da_percentage = 0.10\n",
    "        bonus = 5000  \n",
    "\n",
    "    da = basic_salary * da_percentage\n",
    "\n",
    "    gross_salary = basic_salary + da + bonus\n",
    "\n",
    "    return gross_salary\n",
    "\n",
    "ramesh_basic_salary = int(input(\"Enter the ramesh basic salary\"))\n",
    "gross_salary_ramesh = calculate_gross_salary(ramesh_basic_salary)\n",
    "print(\"Ramesh's Gross Salary:\", gross_salary_ramesh)\n"
   ]
  },
  {
   "cell_type": "code",
   "execution_count": 23,
   "id": "25fd2812-ade5-494d-b8b2-85afe6e89a8c",
   "metadata": {},
   "outputs": [
    {
     "name": "stdout",
     "output_type": "stream",
     "text": [
      "0\n"
     ]
    }
   ],
   "source": [
    "a = [10, 20, 30, 40]\n",
    "sum = 0\n",
    "i = 0\n",
    "\n",
    "while () :\n",
    "    sum += i\n",
    "    i += 1\n",
    "print(sum)"
   ]
  },
  {
   "cell_type": "code",
   "execution_count": 6,
   "id": "ad790adf-de30-4dd7-a602-0768a1d81adb",
   "metadata": {},
   "outputs": [
    {
     "name": "stdout",
     "output_type": "stream",
     "text": [
      "10\n",
      "3\n",
      "4\n",
      "8\n",
      "25\n"
     ]
    }
   ],
   "source": [
    "lst = [10, 3, 4,8]\n",
    "sum = 0\n",
    "for i in lst :\n",
    "    sum += i\n",
    "    print(i)\n",
    "\n",
    "print(sum)"
   ]
  },
  {
   "cell_type": "code",
   "execution_count": null,
   "id": "b28cdfdd-e3a9-45f6-a7a6-c993de23629b",
   "metadata": {},
   "outputs": [],
   "source": [
    "#write a program to find the odd/even no's from start to end 2,50\n",
    "\n",
    "start = int(input(\"Enter the start : \"))\n",
    "end = int(input(\"Enter the end : \"))\n",
    "for i in range(start, end+1) :\n",
    "    if (i % 2 == 0) :\n",
    "        print(i, end = \" \")\n",
    "    else (i % 2 != 0) :\n",
    "        print(i, end = \" \")\n",
    "        "
   ]
  },
  {
   "cell_type": "code",
   "execution_count": 2,
   "id": "4ae174c6",
   "metadata": {},
   "outputs": [
    {
     "name": "stdout",
     "output_type": "stream",
     "text": [
      "Value=apple, index=0\n",
      "Value=banana, index=1\n",
      "Value=cherry, index=2\n"
     ]
    }
   ],
   "source": [
    "fruits = [\"apple\", \"banana\", \"cherry\"]\n",
    "\n",
    "for i, v in enumerate(fruits):\n",
    "    print(\"Value={}, index={}\".format(v, i))"
   ]
  },
  {
   "cell_type": "code",
   "execution_count": 7,
   "id": "5a0ae325",
   "metadata": {},
   "outputs": [
    {
     "name": "stdout",
     "output_type": "stream",
     "text": [
      "dogs is having 4 alphabets\n",
      "cat is having 3 alphabets\n",
      "goat is having 4 alphabets\n"
     ]
    }
   ],
   "source": [
    "#write the length of the alphabets of the element of the list\n",
    "\n",
    "list = [\"dogs\", \"cat\", \"goat\"]\n",
    "for i in list :\n",
    "    print(i,\"is having\",len(i), \"alphabets\")\n"
   ]
  },
  {
   "cell_type": "code",
   "execution_count": 11,
   "id": "40c1a516",
   "metadata": {},
   "outputs": [
    {
     "name": "stdout",
     "output_type": "stream",
     "text": [
      "2 x 4 = 8\n",
      "2 x 5 = 10\n"
     ]
    }
   ],
   "source": [
    "#multiplication table\n",
    "\n",
    "num = int(input(\"Enter the number : \"))\n",
    "start = int(input(\"Enter the start : \"))\n",
    "end = int(input(\"Enter the end : \"))\n",
    "for i in range(start, end+1) :\n",
    "    print(num, \"x\", i, \"=\", num*i)\n"
   ]
  },
  {
   "cell_type": "code",
   "execution_count": 2,
   "id": "7b5d70fc",
   "metadata": {},
   "outputs": [
    {
     "name": "stdout",
     "output_type": "stream",
     "text": [
      "[5, 7, 3, 5, 6, 6]\n"
     ]
    }
   ],
   "source": [
    "list2 = []\n",
    "n = int(input())\n",
    "for i in range(0, n) :\n",
    "    ele = int(input())\n",
    "    list2.append(ele)\n",
    "\n",
    "print(list2)\n"
   ]
  },
  {
   "cell_type": "code",
   "execution_count": 5,
   "id": "ef54b338",
   "metadata": {},
   "outputs": [
    {
     "name": "stdout",
     "output_type": "stream",
     "text": [
      "[1, 2, 3, 4, 5]\n",
      "6\n",
      "9\n"
     ]
    }
   ],
   "source": [
    "user_list = []\n",
    "even_sum= 0\n",
    "odd_sum = 0\n",
    "size = int(input())\n",
    "for i in range(0, size) :\n",
    "    element = int(input())\n",
    "    user_list.append(element)\n",
    "    if (element % 2 == 0) :\n",
    "        even_sum += element\n",
    "    else :\n",
    "        odd_sum += element\n",
    "\n",
    "print(user_list)\n",
    "print(even_sum)\n",
    "print(odd_sum)"
   ]
  },
  {
   "cell_type": "code",
   "execution_count": 2,
   "id": "42ea66d7",
   "metadata": {},
   "outputs": [],
   "source": [
    "lst=[10,20,30,6,40]\n",
    "sum=i=1\n",
    "while i<len(lst):\n",
    "    if i<=0:\n",
    "        print(\"invalid\")\n",
    "    i=i+1"
   ]
  },
  {
   "cell_type": "code",
   "execution_count": 3,
   "id": "56a9aef6",
   "metadata": {},
   "outputs": [],
   "source": [
    "for i in range(-3):\n",
    "    print(i)\n"
   ]
  },
  {
   "cell_type": "code",
   "execution_count": 19,
   "id": "2fa588d5",
   "metadata": {},
   "outputs": [
    {
     "name": "stdout",
     "output_type": "stream",
     "text": [
      "0\n",
      "1\n",
      "2\n",
      "3\n",
      "4\n",
      "Loop condition is False.\n"
     ]
    }
   ],
   "source": [
    "count = 0\n",
    "while count < 5:\n",
    "    print(count)\n",
    "    count += 1\n",
    "else:\n",
    "    print(\"Loop condition is False.\")"
   ]
  },
  {
   "cell_type": "code",
   "execution_count": 16,
   "id": "fe7a5213",
   "metadata": {},
   "outputs": [
    {
     "data": {
      "text/plain": [
       "'good\\nmorning'"
      ]
     },
     "execution_count": 16,
     "metadata": {},
     "output_type": "execute_result"
    }
   ],
   "source": [
    "s = 'good\\nmorning'\n",
    "s"
   ]
  },
  {
   "cell_type": "code",
   "execution_count": 3,
   "id": "f5e0dd03",
   "metadata": {},
   "outputs": [],
   "source": [
    "x = 1\n",
    "lst = []\n",
    "while True:\n",
    "    ele = input(\"Enter element no:{} \\n  press exit. \".format(x));\n",
    "    if ele.lower()=='exit':\n",
    "        break\n",
    "    else:\n",
    "        lst.append(ele)\n",
    "    x=x+1\n",
    "print(lst)"
   ]
  },
  {
   "cell_type": "code",
   "execution_count": 1,
   "id": "79fb058a",
   "metadata": {},
   "outputs": [
    {
     "name": "stdout",
     "output_type": "stream",
     "text": [
      "['one', 'two', 'three', 'four']\n",
      "['one', 'two', 'three', 'four', 'five']\n"
     ]
    }
   ],
   "source": [
    "lst = ['one', 'two', 'three' , 'four']\n",
    "print(lst)\n",
    "lst.append('five')\n",
    "\n",
    "print(lst)"
   ]
  },
  {
   "cell_type": "code",
   "execution_count": 3,
   "id": "5ee237fc",
   "metadata": {},
   "outputs": [
    {
     "name": "stdout",
     "output_type": "stream",
     "text": [
      "['one', 'two', 'three', 'four']\n",
      "['one', 'two', 'three', 'five', 'four']\n"
     ]
    }
   ],
   "source": [
    "lst = ['one', 'two', 'three' , 'four']\n",
    "print(lst)\n",
    "lst.insert( 3,'five')\n",
    "\n",
    "print(lst)"
   ]
  },
  {
   "cell_type": "code",
   "execution_count": 6,
   "id": "b7fd6850",
   "metadata": {},
   "outputs": [
    {
     "name": "stdout",
     "output_type": "stream",
     "text": [
      "['one', 'two', 'three', 'four']\n",
      "['one', 'three', 'four']\n"
     ]
    }
   ],
   "source": [
    "lst = ['one', 'two', 'three' , 'four']\n",
    "print(lst)\n",
    "lst.remove('two')\n",
    "\n",
    "print(lst)"
   ]
  },
  {
   "cell_type": "code",
   "execution_count": 8,
   "id": "88c51608",
   "metadata": {},
   "outputs": [
    {
     "name": "stdout",
     "output_type": "stream",
     "text": [
      "['one', 'two', 'three', 'four', 'five']\n"
     ]
    }
   ],
   "source": [
    "lst = ['one', 'two', 'three']\n",
    "lst1 = ['four','five']\n",
    "\n",
    "lst.extend(lst1)\n",
    "\n",
    "print(lst)"
   ]
  },
  {
   "cell_type": "markdown",
   "id": "44dbc9e5",
   "metadata": {},
   "source": [
    "stack = []\n",
    "\n",
    "stack.append(1)\n",
    "stack.append(2)\n",
    "stack.append(3)\n",
    "\n",
    "popped_element = stack.pop()\n",
    "\n",
    "print(\"Stack:\", stack)\n",
    "print(\"Popped Element:\", popped_element)\n"
   ]
  },
  {
   "cell_type": "code",
   "execution_count": 10,
   "id": "71a976d3",
   "metadata": {},
   "outputs": [
    {
     "name": "stdout",
     "output_type": "stream",
     "text": [
      "Sorted list: [1, 2, 3, 3, 4, 5, 6]\n",
      "Oringnal list: [3, 4, 5, 6, 1, 2, 3]\n"
     ]
    }
   ],
   "source": [
    "number = [3,4,5,6,1,2,3]\n",
    "\n",
    "sorted_lst = sorted(number)\n",
    "\n",
    "print(\"Sorted list:\", sorted_lst)\n",
    "\n",
    "print(\"Oringnal list:\", number)"
   ]
  },
  {
   "cell_type": "code",
   "execution_count": 10,
   "id": "d3248aea",
   "metadata": {},
   "outputs": [
    {
     "name": "stdout",
     "output_type": "stream",
     "text": [
      "Enter a number :  5\n"
     ]
    },
    {
     "name": "stdout",
     "output_type": "stream",
     "text": [
      "Not found\n",
      "None\n",
      "[8, 7, 4, 3]\n"
     ]
    }
   ],
   "source": [
    "lst = [3,4,7,8]\n",
    "element = int(input(\"Enter a number : \"))\n",
    "\n",
    "if element in lst :\n",
    "    print(\"Element found \")\n",
    "else :\n",
    "    print(\"Not found\")\n",
    "\n",
    "print(lst.reverse())\n",
    "print(sorted(lst, reverse = True))"
   ]
  },
  {
   "cell_type": "code",
   "execution_count": 13,
   "id": "15e106d5-8f27-460e-97d4-2843ac0bebb1",
   "metadata": {},
   "outputs": [
    {
     "name": "stdout",
     "output_type": "stream",
     "text": [
      "[1, 3, 4, 9, 10]\n"
     ]
    }
   ],
   "source": [
    "l = [10, 9, 4, 3, 1]\n",
    "l.sort()\n",
    "print(l)"
   ]
  },
  {
   "cell_type": "code",
   "execution_count": 18,
   "id": "cbe404a2-06ed-4ef3-b836-e6c8650edc69",
   "metadata": {},
   "outputs": [
    {
     "name": "stdout",
     "output_type": "stream",
     "text": [
      "['hello', ' how', ' are', ' you ']\n"
     ]
    }
   ],
   "source": [
    "s = \"hello, how, are, you \"\n",
    "#we can create list from the string\n",
    "L = s.split(',') #default argument is space of split\n",
    "print(L)"
   ]
  },
  {
   "cell_type": "code",
   "execution_count": 29,
   "id": "967074ea-aa68-4f1d-9e0c-fb1077d1bfcc",
   "metadata": {},
   "outputs": [
    {
     "name": "stdout",
     "output_type": "stream",
     "text": [
      "[4, 29, 7, 8, 3, 5, 3]\n",
      "[4, 29, 7, 8]\n",
      "[4, 29, 7]\n"
     ]
    }
   ],
   "source": [
    "test =  [4,29,7,8,3,5,3]\n",
    "print(test[:])\n",
    "print(test[0:4:1])  #start, end, step\n",
    "print(test[0:3])"
   ]
  },
  {
   "cell_type": "code",
   "execution_count": 30,
   "id": "3a532ad7-99a3-45d0-921c-a0d4855e15b6",
   "metadata": {},
   "outputs": [
    {
     "name": "stdout",
     "output_type": "stream",
     "text": [
      "[5, 10, 3, 6, 10, 12, 15]\n"
     ]
    }
   ],
   "source": [
    "L1 = [5,10,3,6]\n",
    "L2 = [10, 12, 15]\n",
    "L3 = L1 + L2\n",
    "print(L3)"
   ]
  },
  {
   "cell_type": "code",
   "execution_count": 33,
   "id": "0dc1d0cf-79eb-4dee-bd3b-1e6cbcad2a09",
   "metadata": {},
   "outputs": [
    {
     "name": "stdout",
     "output_type": "stream",
     "text": [
      "2\n"
     ]
    }
   ],
   "source": [
    "two_d = [[2,4,5], [2,31,5]]\n",
    "print(len(two_d))"
   ]
  },
  {
   "cell_type": "code",
   "execution_count": 46,
   "id": "ad0312eb-0aaa-4dab-a956-db5dd71eed8a",
   "metadata": {},
   "outputs": [
    {
     "name": "stdout",
     "output_type": "stream",
     "text": [
      "62.5\n",
      "98 42\n",
      "[98, 70, 60, 55, 50, 42]\n"
     ]
    }
   ],
   "source": [
    "marks = [98, 60, 70, 42, 50, 55]\n",
    "sum = 0\n",
    "for i in marks : \n",
    "    sum += i\n",
    "length = len(marks)\n",
    "avg = sum / length\n",
    "print(avg)\n",
    "\n",
    "high = max(marks)\n",
    "low = min(marks)\n",
    "print(high,low)\n",
    "print(sorted(marks, reverse = True))"
   ]
  },
  {
   "cell_type": "code",
   "execution_count": null,
   "id": "ac327261-d9a5-400c-a672-45eb0c66cf3c",
   "metadata": {},
   "outputs": [
    {
     "name": "stdout",
     "output_type": "stream",
     "text": [
      "1. Add groceries to list\n",
      "2. Display the list\n",
      "3. Which item is purchased\n",
      "4. Exit\n"
     ]
    },
    {
     "name": "stdout",
     "output_type": "stream",
     "text": [
      "Enter the choice :  3\n"
     ]
    }
   ],
   "source": [
    "def add_groceries(groceries, item) :\n",
    "    groceries.append(item)\n",
    "    return groceries\n",
    "\n",
    "def display_groceries(groceries) :\n",
    "    print(\"Groceries list : \")\n",
    "    for i in groceries :\n",
    "        print(i)\n",
    "\n",
    "def purchase_groceries(groceries, item) :\n",
    "    ele = []\n",
    "    if ele in groceries is NULL :\n",
    "        print(\"list is empty\")\n",
    "    else :\n",
    "        groceries.remove(item)\n",
    "        return groceries\n",
    "\n",
    "groceries = []\n",
    "while True :\n",
    "    print(\"1. Add groceries to list\")\n",
    "    print(\"2. Display the list\")\n",
    "    print(\"3. Which item is purchased\")\n",
    "    print(\"4. Exit\")\n",
    "    choice = int(input(\"Enter the choice : \"))\n",
    "    if choice == 1 :\n",
    "        item = input(\"Enter the item : \")\n",
    "        groceries = add_groceries(groceries, item)\n",
    "    elif choice == 2 :\n",
    "        display_groceries(groceries)\n",
    "    elif choice == 3 :\n",
    "        item = input(\"Enter the item : \")\n",
    "        groceries = purchase_groceries(groceries, item)\n",
    "    elif choice == 4 :\n",
    "        break\n",
    "    else :\n",
    "        print(\"Invalid choice\")"
   ]
  },
  {
   "cell_type": "code",
   "execution_count": 7,
   "id": "f2a908cf-9ce5-4158-84ca-489a9758b94e",
   "metadata": {},
   "outputs": [
    {
     "name": "stdout",
     "output_type": "stream",
     "text": [
      "('abhishek', 34)\n",
      "(4, 5)\n"
     ]
    }
   ],
   "source": [
    "t=('abhishek', 34)\n",
    "print(t)\n",
    "t = (4,5)\n",
    "print(t)"
   ]
  },
  {
   "cell_type": "code",
   "execution_count": 4,
   "id": "76e0ae92",
   "metadata": {},
   "outputs": [
    {
     "name": "stdout",
     "output_type": "stream",
     "text": [
      "21\n"
     ]
    }
   ],
   "source": [
    "t = (1,2,3,4,5,6,(7,8),9,10)\n",
    "#sum all the elements of t before sub tupple\n",
    "sum = 0\n",
    "for i in t :\n",
    "    if isinstance(i, tuple) :\n",
    "        break\n",
    "    sum += i\n",
    "print(sum)\n"
   ]
  },
  {
   "cell_type": "code",
   "execution_count": 5,
   "id": "0f8ed3cf",
   "metadata": {},
   "outputs": [],
   "source": [
    "def count_elements(lst):\n",
    "    # Step 1: Initialize an empty dictionary\n",
    "    count_dict = {}\n",
    "\n",
    "    # Step 2: Iterate over each element in the list\n",
    "    for element in lst:\n",
    "        # Step 3 and 4: Add element to dictionary or increment its value\n",
    "        if element in count_dict:\n",
    "            count_dict[element] += 1\n",
    "        else:\n",
    "            count_dict[element] = 1\n",
    "\n",
    "    # Step 5: Print each key-value pair as a tuple\n",
    "    for key, value in count_dict.items():\n",
    "        print((key, value))\n",
    "\n",
    "# Test the function\n",
    "count_elements(['a', 'b', 'a', 'c', 'b', 'a', 'd', 'e', 'e'])"
   ]
  },
  {
   "cell_type": "code",
   "execution_count": null,
   "id": "59b5e12c",
   "metadata": {},
   "outputs": [],
   "source": []
  }
 ],
 "metadata": {
  "kernelspec": {
   "display_name": "Python 3 (ipykernel)",
   "language": "python",
   "name": "python3"
  },
  "language_info": {
   "codemirror_mode": {
    "name": "ipython",
    "version": 3
   },
   "file_extension": ".py",
   "mimetype": "text/x-python",
   "name": "python",
   "nbconvert_exporter": "python",
   "pygments_lexer": "ipython3",
   "version": "3.11.7"
  }
 },
 "nbformat": 4,
 "nbformat_minor": 5
}
