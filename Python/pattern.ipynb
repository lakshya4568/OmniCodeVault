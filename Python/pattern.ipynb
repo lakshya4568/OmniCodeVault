{
 "cells": [
  {
   "cell_type": "markdown",
   "metadata": {},
   "source": [
    "### Pattern using LOOPS and Nested LOOPS\n",
    "*All the pattern here will make you able to understand how the loops and nested loop works with some depth knowledge of logic and algorithm.*"
   ]
  },
  {
   "cell_type": "markdown",
   "metadata": {},
   "source": [
    "#### 1. Hollow Rectangle"
   ]
  },
  {
   "cell_type": "code",
   "execution_count": null,
   "metadata": {},
   "outputs": [],
   "source": [
    "# code to print the hollow rectangle pattern\n",
    "rows = int(input(\"Enter the number of rows : \"))\n",
    "cols = int(input(\"Enter the number of columns : \"))\n",
    "\n",
    "for i in range (1, rows + 1) :\n",
    "    for j in range (1, cols + 1) :\n",
    "        if (i == 1 or i == rows or j == 1 or j == cols) :\n",
    "            print(\"*\", end = ' ')\n",
    "        else :\n",
    "            print(\" \", end = ' ')\n",
    "    print()"
   ]
  },
  {
   "cell_type": "markdown",
   "metadata": {},
   "source": [
    "#### 2. Diamond"
   ]
  },
  {
   "cell_type": "code",
   "execution_count": null,
   "metadata": {},
   "outputs": [],
   "source": [
    "# code to print diamond pattern\n",
    "lines = int(input(\"Enter the number of lines : \"))\n",
    "for i in range (1, lines + 1) :\n",
    "    for j in range (1, lines - i + 1) :\n",
    "        print(\" \", end = ' ')\n",
    "    for k in range (1, 2 * i) :\n",
    "        print(\"*\", end = ' ')\n",
    "    print()\n",
    "\n",
    "for i in range (lines - 1, 0, -1) :\n",
    "    for j in range (1, lines - i + 1) :\n",
    "        print(\" \", end = ' ')\n",
    "    for k in range (1, 2 * i) :\n",
    "        print(\"*\", end = ' ')\n",
    "    print()\n"
   ]
  },
  {
   "cell_type": "markdown",
   "metadata": {},
   "source": [
    "#### 3. Inverted Rotated Half Pyramid"
   ]
  },
  {
   "cell_type": "code",
   "execution_count": null,
   "metadata": {},
   "outputs": [],
   "source": [
    "# code to write inverted rotated half pyramid\n",
    "def inverted_rotated_half_pyramid(lines) :\n",
    "    for i in range (1, lines+1) :\n",
    "        for j in range (1, (lines-i)+1) : #spaces\n",
    "            print(\" \", end = ' ')\n",
    "        for k in range (1, i+1) :\n",
    "            print(\"*\" , end = ' ')\n",
    "        print()\n",
    "\n",
    "inverted_rotated_half_pyramid(int(input(\"Enter no. of lines = \")))"
   ]
  },
  {
   "cell_type": "markdown",
   "metadata": {},
   "source": [
    "#### 4. Inverted Half Number Pyramid"
   ]
  },
  {
   "cell_type": "code",
   "execution_count": null,
   "metadata": {},
   "outputs": [],
   "source": [
    "# code to print Inverted Half Pyramid number\n",
    "def inverted_rotated_HalfPyramid(lines) :\n",
    "    for i in range (1, lines+1) :\n",
    "        for j in range (1, lines-i+2) :\n",
    "            print(j , end = ' ')\n",
    "        print()\n",
    "\n",
    "\n",
    "inverted_rotated_HalfPyramid(int(input(\"Enter no. of lines :\")))"
   ]
  },
  {
   "cell_type": "markdown",
   "metadata": {},
   "source": [
    "#### 5. Floyd's Triangle"
   ]
  },
  {
   "cell_type": "code",
   "execution_count": null,
   "metadata": {},
   "outputs": [],
   "source": [
    "# code to print the floyd's triangle\n",
    "\n",
    "def floyds_triangle(lines) :\n",
    "    counter = 1\n",
    "    for i in range(1, lines+1) :\n",
    "        for j in range (1, i+1) :\n",
    "            print(counter, end = ' ') \n",
    "            counter = counter + 1\n",
    "        print()\n",
    "\n",
    "\n",
    "floyds_triangle(int(input(\"Enter a numebr : \")))"
   ]
  },
  {
   "cell_type": "markdown",
   "metadata": {},
   "source": [
    "#### 6. Zero One Triangle"
   ]
  },
  {
   "cell_type": "code",
   "execution_count": null,
   "metadata": {},
   "outputs": [],
   "source": [
    "# code to print zero one triangle\n",
    "\n",
    "def zero_one_triangle(lines) :\n",
    "    for i in range (1, lines+1) :\n",
    "        for j in range (1, i+1) :\n",
    "            if ((i+j) % 2 == 0) :\n",
    "                print(\"1\", end = ' ')\n",
    "            else :\n",
    "                print(\"0\", end = ' ') \n",
    "\n",
    "        print()\n",
    "\n",
    "zero_one_triangle(int(input(\"Enter no. of lines : \"))) "
   ]
  },
  {
   "cell_type": "markdown",
   "metadata": {},
   "source": [
    "#### 7. Butterfly Pattern    "
   ]
  },
  {
   "cell_type": "code",
   "execution_count": 1,
   "metadata": {},
   "outputs": [
    {
     "name": "stdout",
     "output_type": "stream",
     "text": [
      "*         * \n",
      "* *     * * \n",
      "* * * * * * \n",
      "* *     * * \n",
      "*         * \n"
     ]
    }
   ],
   "source": [
    "def butterfly_pattern(lines) :\n",
    "    # 1st half\n",
    "    for i in range (1, lines+1) :\n",
    "        for j in range(1,  i+1) : #star\n",
    "            print(\"*\", end = ' ')\n",
    "        for k in range (1, 2*(lines-i)+1) : #spaces\n",
    "            print(\" \", end = ' ')\n",
    "        for l in range (1, i+1) : # star\n",
    "            print(\"*\", end = ' ')\n",
    "        print()\n",
    "    \n",
    "    # 2nd Half\n",
    "    for m in range (lines-1, 0, -1) :\n",
    "        for j in range(1,  m+1) : #star\n",
    "            print(\"*\", end = ' ')\n",
    "        for k in range (1, 2*(lines-m)+1) : #spaces\n",
    "            print(\" \", end = ' ')\n",
    "        for l in range (1, m+1) : # star\n",
    "            print(\"*\", end = ' ')\n",
    "        print()\n",
    "\n",
    "butterfly_pattern(int(input(\"Enter no. of lines : \")))"
   ]
  },
  {
   "cell_type": "markdown",
   "metadata": {},
   "source": [
    "#### 8. Solid Rhombus"
   ]
  },
  {
   "cell_type": "code",
   "execution_count": null,
   "metadata": {},
   "outputs": [],
   "source": [
    "def solid_rhombus(rows) :\n",
    "    for i in range (1, rows+1) :\n",
    "        for j in range (1, rows-i+1) :\n",
    "            print(\" \", end = ' ')\n",
    "        for k in range (1, rows+1) :\n",
    "            print(\"*\", end = ' ')\n",
    "        print()"
   ]
  },
  {
   "cell_type": "code",
   "execution_count": 1,
   "metadata": {},
   "outputs": [
    {
     "data": {
      "text/plain": [
       "1"
      ]
     },
     "execution_count": 1,
     "metadata": {},
     "output_type": "execute_result"
    }
   ],
   "source": []
  },
  {
   "cell_type": "code",
   "execution_count": 2,
   "metadata": {},
   "outputs": [
    {
     "name": "stdout",
     "output_type": "stream",
     "text": [
      "K'th smallest element is 5\n"
     ]
    }
   ],
   "source": [
    "def kthSmallest(arr, N, K):\n",
    "    arr.sort()\n",
    "    return len(arr) \n",
    "\n",
    "\n",
    "# Driver code\n",
    "if __name__ == '__main__':\n",
    "    arr = [12, 3, 5, 7, 19]\n",
    "    N = len(arr)\n",
    "    K = 2\n",
    "    print(\"K'th smallest element is\",\n",
    "          kthSmallest(arr, N, K))\n"
   ]
  }
 ],
 "metadata": {
  "kernelspec": {
   "display_name": "base",
   "language": "python",
   "name": "python3"
  },
  "language_info": {
   "codemirror_mode": {
    "name": "ipython",
    "version": 3
   },
   "file_extension": ".py",
   "mimetype": "text/x-python",
   "name": "python",
   "nbconvert_exporter": "python",
   "pygments_lexer": "ipython3",
   "version": "3.11.7"
  }
 },
 "nbformat": 4,
 "nbformat_minor": 4
}
