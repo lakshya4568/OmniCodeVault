{
 "cells": [
  {
   "cell_type": "markdown",
   "metadata": {},
   "source": [
    "# Problem Statement\n",
    "1. Write a Python function `sums(l)` that takes a nonempty list of integers and returns a list `[odd, even]`, where `odd` is the sum of squares all the odd numbers in `l` and `even` is the sum of squares of all the even numbers in `l`."
   ]
  },
  {
   "cell_type": "code",
   "execution_count": 2,
   "metadata": {},
   "outputs": [
    {
     "name": "stdout",
     "output_type": "stream",
     "text": [
      "[35, 64]\n"
     ]
    }
   ],
   "source": [
    "def sums(lst):\n",
    "    odd = sum(n**2 for n in l if n % 2 != 0)\n",
    "    even = sum(a**2 for a in l if a % 2 == 0)\n",
    "    return [odd, even]\n",
    "\n",
    "l = [1, 3, 5, 8]\n",
    "result = sums(l)\n",
    "print(result)"
   ]
  },
  {
   "cell_type": "markdown",
   "metadata": {},
   "source": [
    "2. WAP in python function remove `(l)` that takes a nonempty list of integers l and \n",
    "removes all duplicates in `l`, keeping only the first occurrence of each number. "
   ]
  },
  {
   "cell_type": "code",
   "execution_count": 3,
   "metadata": {},
   "outputs": [
    {
     "name": "stdout",
     "output_type": "stream",
     "text": [
      "[3, 1, 5, 6, 7]\n"
     ]
    }
   ],
   "source": [
    "def remove_duplicates(l):\n",
    "    unique_list = []\n",
    "    for item in l:\n",
    "        if item not in unique_list:\n",
    "            unique_list.append(item)\n",
    "    return unique_list\n",
    "\n",
    "input_list = [3, 1, 5, 3, 6, 6, 7, 1]\n",
    "result = remove_duplicates(input_list)\n",
    "print(result)"
   ]
  },
  {
   "cell_type": "markdown",
   "metadata": {},
   "source": [
    "3. WAP in python to print prime numbers `between 1 to 100.`"
   ]
  },
  {
   "cell_type": "code",
   "execution_count": 4,
   "metadata": {},
   "outputs": [
    {
     "name": "stdout",
     "output_type": "stream",
     "text": [
      "Prime numbers between 1 and 100 are: [2, 3, 5, 7, 11, 13, 17, 19, 23, 29, 31, 37, 41, 43, 47, 53, 59, 61, 67, 71, 73, 79, 83, 89, 97]\n"
     ]
    }
   ],
   "source": [
    "def prime(start, end):\n",
    "    prime_numbers = []\n",
    "    \n",
    "    for num in range(start, end + 1):\n",
    "        if num > 1:\n",
    "            is_prime = True\n",
    "            for i in range(2, int(num**0.5) + 1):\n",
    "                if num % i == 0:\n",
    "                    is_prime = False\n",
    "                    break\n",
    "            if is_prime:\n",
    "                prime_numbers.append(num)\n",
    "\n",
    "    print(\"Prime numbers between\", start, \"and\", end, \"are:\", prime_numbers)\n",
    "\n",
    "prime(1, 100)"
   ]
  },
  {
   "cell_type": "markdown",
   "metadata": {},
   "source": [
    "### Strings\n",
    "\n",
    "A string is an immutable sequence of Unicode characters. Strings are enclosed in single (' '), double (\" \"), or triple (''' ''' or \"\"\" \"\"\") quotes. They support various operations and methods for manipulating and working with text data, including indexing, slicing, concatenation, conversion, and more. Strings play a crucial role in representing and manipulating textual information in programming languages."
   ]
  },
  {
   "cell_type": "code",
   "execution_count": 5,
   "metadata": {},
   "outputs": [
    {
     "name": "stdout",
     "output_type": "stream",
     "text": [
      "Length of the string: 13\n",
      "First character: H, Last character: !\n",
      "Substring: World\n",
      "Concatenated string: Hello, World! Welcome!\n",
      "Uppercase: HELLO, WORLD!, Lowercase: hello, world!\n",
      "Capitalized: Hello, world!, Reversed: !dlroW ,olleH\n",
      "Index of 'World': 7, Count of 'l': 3\n"
     ]
    }
   ],
   "source": [
    "# Define a string\n",
    "my_string = \"Hello, World!\"\n",
    "\n",
    "# String length\n",
    "length = len(my_string)\n",
    "print(f\"Length of the string: {length}\")\n",
    "\n",
    "# Accessing characters\n",
    "first_char = my_string[0]\n",
    "last_char = my_string[-1]\n",
    "print(f\"First character: {first_char}, Last character: {last_char}\")\n",
    "\n",
    "# Slicing\n",
    "substring = my_string[7:12]\n",
    "print(f\"Substring: {substring}\")\n",
    "\n",
    "# Concatenation\n",
    "new_string = my_string + \" Welcome!\"\n",
    "print(f\"Concatenated string: {new_string}\")\n",
    "\n",
    "# String methods\n",
    "upper_case = my_string.upper()\n",
    "lower_case = my_string.lower()\n",
    "capitalized = my_string.capitalize()\n",
    "reversed_string = my_string[::-1]\n",
    "\n",
    "print(f\"Uppercase: {upper_case}, Lowercase: {lower_case}\")\n",
    "print(f\"Capitalized: {capitalized}, Reversed: {reversed_string}\")\n",
    "\n",
    "# Finding and counting\n",
    "substring_to_find = \"World\"\n",
    "index = my_string.find(substring_to_find)\n",
    "count = my_string.count(\"l\")\n",
    "\n",
    "print(f\"Index of '{substring_to_find}': {index}, Count of 'l': {count}\")"
   ]
  },
  {
   "cell_type": "markdown",
   "metadata": {},
   "source": [
    "### Lists\n",
    "\n",
    "* Ordered Collection: A list in Python is an ordered collection of elements, just like an array. The order of elements is maintained, and you can access each element using its index.\n",
    "\n",
    "* Homogeneous or Heterogeneous: While traditional arrays often require elements to be of the same data type, Python lists allow for a mix of different data types within the same list. This flexibility makes them more versatile than strict arrays.\n",
    "\n",
    "* Zero-Based Indexing: Similar to many programming languages, Python uses zero-based indexing for lists. The first element is accessed using index 0, the second with index 1, and so on."
   ]
  },
  {
   "cell_type": "code",
   "execution_count": 7,
   "metadata": {},
   "outputs": [
    {
     "name": "stdout",
     "output_type": "stream",
     "text": [
      "Length of the list: 5\n",
      "First element: 1, Last element: 5.0\n",
      "Subset of the list: [2, 3, 'four']\n",
      "After appending and extending: [1, 2, 3, 'four', 5.0, 'six', 7, 8]\n",
      "After inserting and removing: [1, 2, 'inserted', 3, 5.0, 'six']\n",
      "Popped element: 3, Index of 'six': 4\n",
      "Count of 3: 0, Reversed list: ['six', 5.0, 'inserted', 2, 1]\n"
     ]
    }
   ],
   "source": [
    "my_list = [1, 2, 3, 'four', 5.0]\n",
    "\n",
    "# Length of the list\n",
    "length = len(my_list)\n",
    "print(f\"Length of the list: {length}\")\n",
    "\n",
    "# Accessing elements\n",
    "first_element = my_list[0]\n",
    "last_element = my_list[-1]\n",
    "print(f\"First element: {first_element}, Last element: {last_element}\")\n",
    "\n",
    "# Slicing\n",
    "subset = my_list[1:4]\n",
    "print(f\"Subset of the list: {subset}\")\n",
    "\n",
    "# Appending and extending\n",
    "my_list.append('six')\n",
    "new_list = my_list + [7, 8]\n",
    "print(f\"After appending and extending: {new_list}\")\n",
    "\n",
    "# Inserting and removing\n",
    "my_list.insert(2, 'inserted')\n",
    "my_list.remove('four')\n",
    "print(f\"After inserting and removing: {my_list}\")\n",
    "\n",
    "# Pop and index\n",
    "popped_element = my_list.pop(3)\n",
    "index_of_six = my_list.index('six')\n",
    "print(f\"Popped element: {popped_element}, Index of 'six': {index_of_six}\")\n",
    "\n",
    "# Count and reverse\n",
    "count_of_3 = my_list.count(3)\n",
    "my_list.reverse()\n",
    "print(f\"Count of 3: {count_of_3}, Reversed list: {my_list}\")\n"
   ]
  },
  {
   "cell_type": "markdown",
   "metadata": {},
   "source": [
    "### Tuples\n",
    "\n",
    "* Ordered Collection: Tuples are ordered collections of elements.\n",
    "* Immutable: Once created, the elements of a tuple cannot be changed or modified.\n",
    "* Heterogeneous Elements: Tuples can contain elements of different data types."
   ]
  },
  {
   "cell_type": "code",
   "execution_count": 8,
   "metadata": {},
   "outputs": [
    {
     "name": "stdout",
     "output_type": "stream",
     "text": [
      "Length of the tuple: 4\n",
      "First element: 1, Last element: [4, 5]\n",
      "Subset of the tuple: ('two', 3.0)\n",
      "After concatenation: (1, 'two', 3.0, [4, 5], 'six', 7)\n",
      "After repetition: (1, 'two', 3.0, [4, 5], 1, 'two', 3.0, [4, 5])\n",
      "Count of 'two': 1\n",
      "Index of 3.0: 2\n"
     ]
    }
   ],
   "source": [
    "# Define a tuple\n",
    "my_tuple = (1, 'two', 3.0, [4, 5])\n",
    "\n",
    "# Length of the tuple\n",
    "length = len(my_tuple)\n",
    "print(f\"Length of the tuple: {length}\")\n",
    "\n",
    "# Accessing elements\n",
    "first_element = my_tuple[0]\n",
    "last_element = my_tuple[-1]\n",
    "print(f\"First element: {first_element}, Last element: {last_element}\")\n",
    "\n",
    "# Slicing\n",
    "subset = my_tuple[1:3]\n",
    "print(f\"Subset of the tuple: {subset}\")\n",
    "\n",
    "# Concatenation\n",
    "concatenated_tuple = my_tuple + ('six', 7)\n",
    "print(f\"After concatenation: {concatenated_tuple}\")\n",
    "\n",
    "# Repetition\n",
    "repeated_tuple = my_tuple * 2\n",
    "print(f\"After repetition: {repeated_tuple}\")\n",
    "\n",
    "# Count\n",
    "count_of_two = my_tuple.count('two')\n",
    "print(f\"Count of 'two': {count_of_two}\")\n",
    "\n",
    "# Index\n",
    "index_of_three = my_tuple.index(3.0)\n",
    "print(f\"Index of 3.0: {index_of_three}\")"
   ]
  },
  {
   "cell_type": "markdown",
   "metadata": {},
   "source": [
    "### Dictionaries\n",
    "\n",
    "* Key-Value Pair: A dictionary is a collection of key-value pairs. Each key is associated with a value, and you can use the key to access the corresponding value.\n",
    "\n",
    "* Unordered: Unlike sequences such as lists and tuples, a dictionary does not maintain the order of its items. When you iterate through a dictionary, the items may not be returned in the order they were added.\n",
    "\n",
    "* Mutable: You can add, remove, and update key-value pairs in a dictionary after it has been created."
   ]
  },
  {
   "cell_type": "code",
   "execution_count": 13,
   "metadata": {},
   "outputs": [
    {
     "name": "stdout",
     "output_type": "stream",
     "text": [
      "Name: John\n",
      "Key 'name' exists!\n",
      "Updated Dictionary: {'name': 'John', 'age': 26, 'gender': 'Male'}\n",
      "Squared Values Dictionary: {'age': 676}\n"
     ]
    }
   ],
   "source": [
    "# Define a dictionary\n",
    "my_dict = {'name': 'John', 'age': 25, 'city': 'New Delhi'}\n",
    "\n",
    "# Accessing values\n",
    "print(\"Name:\", my_dict['name'])\n",
    "\n",
    "# Updating values\n",
    "my_dict['age'] = 26\n",
    "\n",
    "# Adding a new key-value pair\n",
    "my_dict['gender'] = 'Male'\n",
    "\n",
    "# Removing a key-value pair\n",
    "del my_dict['city']\n",
    "\n",
    "# Dictionary methods\n",
    "keys_list = my_dict.keys()\n",
    "values_list = my_dict.values()\n",
    "items_list = my_dict.items()\n",
    "\n",
    "# Checking existence\n",
    "if 'name' in my_dict:\n",
    "    print(\"Key 'name' exists!\")\n",
    "\n",
    "# Dictionary comprehension\n",
    "squared_dict = {key: value**2 for key, value in my_dict.items() if isinstance(value, (int, float))}\n",
    "\n",
    "# Displaying the dictionary\n",
    "print(\"Updated Dictionary:\", my_dict)\n",
    "print(\"Squared Values Dictionary:\", squared_dict)"
   ]
  }
 ],
 "metadata": {
  "kernelspec": {
   "display_name": "base",
   "language": "python",
   "name": "python3"
  },
  "language_info": {
   "codemirror_mode": {
    "name": "ipython",
    "version": 3
   },
   "file_extension": ".py",
   "mimetype": "text/x-python",
   "name": "python",
   "nbconvert_exporter": "python",
   "pygments_lexer": "ipython3",
   "version": "3.11.7"
  }
 },
 "nbformat": 4,
 "nbformat_minor": 2
}
